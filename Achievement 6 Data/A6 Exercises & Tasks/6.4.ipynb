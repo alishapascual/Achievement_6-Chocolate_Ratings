{
 "cells": [
  {
   "cell_type": "markdown",
   "id": "f33c6ff5",
   "metadata": {},
   "source": [
    "# 6.4"
   ]
  },
  {
   "cell_type": "markdown",
   "id": "f0d4e1e8",
   "metadata": {},
   "source": [
    "### 2. Importing libraries and data."
   ]
  },
  {
   "cell_type": "code",
   "execution_count": 1,
   "id": "f7ac2dc9",
   "metadata": {},
   "outputs": [],
   "source": [
    "# Importing Libraries\n",
    "import pandas as pd\n",
    "import numpy as np\n",
    "import seaborn as sns\n",
    "import matplotlib\n",
    "import matplotlib.pyplot as plt\n",
    "import os\n",
    "import sklearn\n",
    "from sklearn.model_selection import train_test_split\n",
    "from sklearn.linear_model import LinearRegression\n",
    "from sklearn.metrics import mean_squared_error, r2_score"
   ]
  },
  {
   "cell_type": "code",
   "execution_count": 2,
   "id": "8d4b5202",
   "metadata": {},
   "outputs": [],
   "source": [
    "# Ensures that the graphs you create are displayed within the notebook without the need to \"call\" them specifically.\n",
    "%matplotlib inline"
   ]
  },
  {
   "cell_type": "code",
   "execution_count": 3,
   "id": "dabcffe5",
   "metadata": {},
   "outputs": [],
   "source": [
    "# Making a path.\n",
    "path = r'/Users/terencekeys/Downloads/Shawzz Folder/Data Analytics Immersion Files/Achievement 6 Data Sets/Chocolate Data Sets'"
   ]
  },
  {
   "cell_type": "code",
   "execution_count": 4,
   "id": "ef8b9609",
   "metadata": {},
   "outputs": [],
   "source": [
    "# Importing chocolate ratings cleaned 1 data set.\n",
    "choc_ratg_clnd1 = pd.read_csv(os.path.join(path, 'Changed', 'chocolate_ratings_cleaned1.csv'), index_col = 0)"
   ]
  },
  {
   "cell_type": "code",
   "execution_count": 5,
   "id": "62e73b5e",
   "metadata": {
    "scrolled": true
   },
   "outputs": [
    {
     "data": {
      "text/html": [
       "<div>\n",
       "<style scoped>\n",
       "    .dataframe tbody tr th:only-of-type {\n",
       "        vertical-align: middle;\n",
       "    }\n",
       "\n",
       "    .dataframe tbody tr th {\n",
       "        vertical-align: top;\n",
       "    }\n",
       "\n",
       "    .dataframe thead th {\n",
       "        text-align: right;\n",
       "    }\n",
       "</style>\n",
       "<table border=\"1\" class=\"dataframe\">\n",
       "  <thead>\n",
       "    <tr style=\"text-align: right;\">\n",
       "      <th></th>\n",
       "      <th>REF</th>\n",
       "      <th>Company (Manufacturer)</th>\n",
       "      <th>Company Location</th>\n",
       "      <th>Review Date</th>\n",
       "      <th>Country of Bean Origin</th>\n",
       "      <th>Specific Bean Origin or Bar Name</th>\n",
       "      <th>Cocoa Percent</th>\n",
       "      <th>Ingredients</th>\n",
       "      <th>Most Memorable Characteristics</th>\n",
       "      <th>Rating</th>\n",
       "      <th>Region</th>\n",
       "      <th>Num_of_Ingredients</th>\n",
       "    </tr>\n",
       "  </thead>\n",
       "  <tbody>\n",
       "    <tr>\n",
       "      <th>0</th>\n",
       "      <td>2454</td>\n",
       "      <td>5150</td>\n",
       "      <td>U.S.A.</td>\n",
       "      <td>2019</td>\n",
       "      <td>Tanzania</td>\n",
       "      <td>Kokoa Kamili, batch 1</td>\n",
       "      <td>76.0</td>\n",
       "      <td>3.0</td>\n",
       "      <td>rich cocoa, fatty, bready</td>\n",
       "      <td>3.25</td>\n",
       "      <td>U.S.A.</td>\n",
       "      <td>3</td>\n",
       "    </tr>\n",
       "    <tr>\n",
       "      <th>1</th>\n",
       "      <td>2458</td>\n",
       "      <td>5150</td>\n",
       "      <td>U.S.A.</td>\n",
       "      <td>2019</td>\n",
       "      <td>Dominican Republic</td>\n",
       "      <td>Zorzal, batch 1</td>\n",
       "      <td>76.0</td>\n",
       "      <td>3.0</td>\n",
       "      <td>cocoa, vegetal, savory</td>\n",
       "      <td>3.50</td>\n",
       "      <td>U.S.A.</td>\n",
       "      <td>3</td>\n",
       "    </tr>\n",
       "    <tr>\n",
       "      <th>2</th>\n",
       "      <td>2454</td>\n",
       "      <td>5150</td>\n",
       "      <td>U.S.A.</td>\n",
       "      <td>2019</td>\n",
       "      <td>Madagascar</td>\n",
       "      <td>Bejofo Estate, batch 1</td>\n",
       "      <td>76.0</td>\n",
       "      <td>3.0</td>\n",
       "      <td>cocoa, blackberry, full body</td>\n",
       "      <td>3.75</td>\n",
       "      <td>U.S.A.</td>\n",
       "      <td>3</td>\n",
       "    </tr>\n",
       "    <tr>\n",
       "      <th>3</th>\n",
       "      <td>2542</td>\n",
       "      <td>5150</td>\n",
       "      <td>U.S.A.</td>\n",
       "      <td>2021</td>\n",
       "      <td>Fiji</td>\n",
       "      <td>Matasawalevu, batch 1</td>\n",
       "      <td>68.0</td>\n",
       "      <td>3.0</td>\n",
       "      <td>chewy, off, rubbery</td>\n",
       "      <td>3.00</td>\n",
       "      <td>U.S.A.</td>\n",
       "      <td>3</td>\n",
       "    </tr>\n",
       "    <tr>\n",
       "      <th>4</th>\n",
       "      <td>2546</td>\n",
       "      <td>5150</td>\n",
       "      <td>U.S.A.</td>\n",
       "      <td>2021</td>\n",
       "      <td>Venezuela</td>\n",
       "      <td>Sur del Lago, batch 1</td>\n",
       "      <td>72.0</td>\n",
       "      <td>3.0</td>\n",
       "      <td>fatty, earthy, moss, nutty,chalky</td>\n",
       "      <td>3.00</td>\n",
       "      <td>U.S.A.</td>\n",
       "      <td>3</td>\n",
       "    </tr>\n",
       "    <tr>\n",
       "      <th>...</th>\n",
       "      <td>...</td>\n",
       "      <td>...</td>\n",
       "      <td>...</td>\n",
       "      <td>...</td>\n",
       "      <td>...</td>\n",
       "      <td>...</td>\n",
       "      <td>...</td>\n",
       "      <td>...</td>\n",
       "      <td>...</td>\n",
       "      <td>...</td>\n",
       "      <td>...</td>\n",
       "      <td>...</td>\n",
       "    </tr>\n",
       "    <tr>\n",
       "      <th>2525</th>\n",
       "      <td>1205</td>\n",
       "      <td>Zotter</td>\n",
       "      <td>Austria</td>\n",
       "      <td>2014</td>\n",
       "      <td>Blend</td>\n",
       "      <td>Raw</td>\n",
       "      <td>80.0</td>\n",
       "      <td>4.0</td>\n",
       "      <td>waxy, cloying, vegetal</td>\n",
       "      <td>2.75</td>\n",
       "      <td>Other</td>\n",
       "      <td>4</td>\n",
       "    </tr>\n",
       "    <tr>\n",
       "      <th>2526</th>\n",
       "      <td>1996</td>\n",
       "      <td>Zotter</td>\n",
       "      <td>Austria</td>\n",
       "      <td>2017</td>\n",
       "      <td>Colombia</td>\n",
       "      <td>APROCAFA, Acandi</td>\n",
       "      <td>75.0</td>\n",
       "      <td>3.0</td>\n",
       "      <td>strong nutty, marshmallow</td>\n",
       "      <td>3.75</td>\n",
       "      <td>Other</td>\n",
       "      <td>3</td>\n",
       "    </tr>\n",
       "    <tr>\n",
       "      <th>2527</th>\n",
       "      <td>2036</td>\n",
       "      <td>Zotter</td>\n",
       "      <td>Austria</td>\n",
       "      <td>2018</td>\n",
       "      <td>Blend</td>\n",
       "      <td>Dry Aged, 30 yr Anniversary bar</td>\n",
       "      <td>75.0</td>\n",
       "      <td>3.0</td>\n",
       "      <td>fatty, earthy, cocoa</td>\n",
       "      <td>3.00</td>\n",
       "      <td>Other</td>\n",
       "      <td>3</td>\n",
       "    </tr>\n",
       "    <tr>\n",
       "      <th>2528</th>\n",
       "      <td>2170</td>\n",
       "      <td>Zotter</td>\n",
       "      <td>Austria</td>\n",
       "      <td>2018</td>\n",
       "      <td>Congo</td>\n",
       "      <td>Mountains of the Moon</td>\n",
       "      <td>70.0</td>\n",
       "      <td>3.0</td>\n",
       "      <td>fatty, mild nuts, mild fruit</td>\n",
       "      <td>3.25</td>\n",
       "      <td>Other</td>\n",
       "      <td>3</td>\n",
       "    </tr>\n",
       "    <tr>\n",
       "      <th>2529</th>\n",
       "      <td>2170</td>\n",
       "      <td>Zotter</td>\n",
       "      <td>Austria</td>\n",
       "      <td>2018</td>\n",
       "      <td>Belize</td>\n",
       "      <td>Maya Mtn</td>\n",
       "      <td>72.0</td>\n",
       "      <td>3.0</td>\n",
       "      <td>muted, roasty, accessible</td>\n",
       "      <td>3.50</td>\n",
       "      <td>Other</td>\n",
       "      <td>3</td>\n",
       "    </tr>\n",
       "  </tbody>\n",
       "</table>\n",
       "<p>2530 rows × 12 columns</p>\n",
       "</div>"
      ],
      "text/plain": [
       "       REF Company (Manufacturer) Company Location  Review Date  \\\n",
       "0     2454                   5150           U.S.A.         2019   \n",
       "1     2458                   5150           U.S.A.         2019   \n",
       "2     2454                   5150           U.S.A.         2019   \n",
       "3     2542                   5150           U.S.A.         2021   \n",
       "4     2546                   5150           U.S.A.         2021   \n",
       "...    ...                    ...              ...          ...   \n",
       "2525  1205                 Zotter          Austria         2014   \n",
       "2526  1996                 Zotter          Austria         2017   \n",
       "2527  2036                 Zotter          Austria         2018   \n",
       "2528  2170                 Zotter          Austria         2018   \n",
       "2529  2170                 Zotter          Austria         2018   \n",
       "\n",
       "     Country of Bean Origin Specific Bean Origin or Bar Name  Cocoa Percent  \\\n",
       "0                  Tanzania            Kokoa Kamili, batch 1           76.0   \n",
       "1        Dominican Republic                  Zorzal, batch 1           76.0   \n",
       "2                Madagascar           Bejofo Estate, batch 1           76.0   \n",
       "3                      Fiji            Matasawalevu, batch 1           68.0   \n",
       "4                 Venezuela            Sur del Lago, batch 1           72.0   \n",
       "...                     ...                              ...            ...   \n",
       "2525                  Blend                              Raw           80.0   \n",
       "2526               Colombia                 APROCAFA, Acandi           75.0   \n",
       "2527                  Blend  Dry Aged, 30 yr Anniversary bar           75.0   \n",
       "2528                  Congo            Mountains of the Moon           70.0   \n",
       "2529                 Belize                         Maya Mtn           72.0   \n",
       "\n",
       "     Ingredients     Most Memorable Characteristics  Rating  Region  \\\n",
       "0            3.0          rich cocoa, fatty, bready    3.25  U.S.A.   \n",
       "1            3.0             cocoa, vegetal, savory    3.50  U.S.A.   \n",
       "2            3.0       cocoa, blackberry, full body    3.75  U.S.A.   \n",
       "3            3.0                chewy, off, rubbery    3.00  U.S.A.   \n",
       "4            3.0  fatty, earthy, moss, nutty,chalky    3.00  U.S.A.   \n",
       "...          ...                                ...     ...     ...   \n",
       "2525         4.0             waxy, cloying, vegetal    2.75   Other   \n",
       "2526         3.0          strong nutty, marshmallow    3.75   Other   \n",
       "2527         3.0               fatty, earthy, cocoa    3.00   Other   \n",
       "2528         3.0       fatty, mild nuts, mild fruit    3.25   Other   \n",
       "2529         3.0          muted, roasty, accessible    3.50   Other   \n",
       "\n",
       "      Num_of_Ingredients  \n",
       "0                      3  \n",
       "1                      3  \n",
       "2                      3  \n",
       "3                      3  \n",
       "4                      3  \n",
       "...                  ...  \n",
       "2525                   4  \n",
       "2526                   3  \n",
       "2527                   3  \n",
       "2528                   3  \n",
       "2529                   3  \n",
       "\n",
       "[2530 rows x 12 columns]"
      ]
     },
     "execution_count": 5,
     "metadata": {},
     "output_type": "execute_result"
    }
   ],
   "source": [
    "choc_ratg_clnd1"
   ]
  },
  {
   "cell_type": "markdown",
   "id": "b191284e",
   "metadata": {},
   "source": [
    "**A little bit of extra steps before getting into the task.**"
   ]
  },
  {
   "cell_type": "code",
   "execution_count": 6,
   "id": "99628e91",
   "metadata": {},
   "outputs": [
    {
     "data": {
      "text/plain": [
       "REF                                   int64\n",
       "Company (Manufacturer)               object\n",
       "Company Location                     object\n",
       "Review Date                           int64\n",
       "Country of Bean Origin               object\n",
       "Specific Bean Origin or Bar Name     object\n",
       "Cocoa Percent                       float64\n",
       "Ingredients                          object\n",
       "Most Memorable Characteristics       object\n",
       "Rating                              float64\n",
       "Region                               object\n",
       "Num_of_Ingredients                    int64\n",
       "dtype: object"
      ]
     },
     "execution_count": 6,
     "metadata": {},
     "output_type": "execute_result"
    }
   ],
   "source": [
    "# Checking data types.\n",
    "choc_ratg_clnd1.dtypes"
   ]
  },
  {
   "cell_type": "code",
   "execution_count": 7,
   "id": "2fc7c83e",
   "metadata": {
    "scrolled": true
   },
   "outputs": [
    {
     "data": {
      "text/plain": [
       "REF                                 0\n",
       "Company (Manufacturer)              0\n",
       "Company Location                    0\n",
       "Review Date                         0\n",
       "Country of Bean Origin              0\n",
       "Specific Bean Origin or Bar Name    0\n",
       "Cocoa Percent                       0\n",
       "Ingredients                         0\n",
       "Most Memorable Characteristics      0\n",
       "Rating                              0\n",
       "Region                              0\n",
       "Num_of_Ingredients                  0\n",
       "dtype: int64"
      ]
     },
     "execution_count": 7,
     "metadata": {},
     "output_type": "execute_result"
    }
   ],
   "source": [
    "# Checking for missing values.\n",
    "choc_ratg_clnd1.isnull().sum()"
   ]
  },
  {
   "cell_type": "code",
   "execution_count": 8,
   "id": "15ee6879",
   "metadata": {},
   "outputs": [
    {
     "data": {
      "text/html": [
       "<div>\n",
       "<style scoped>\n",
       "    .dataframe tbody tr th:only-of-type {\n",
       "        vertical-align: middle;\n",
       "    }\n",
       "\n",
       "    .dataframe tbody tr th {\n",
       "        vertical-align: top;\n",
       "    }\n",
       "\n",
       "    .dataframe thead th {\n",
       "        text-align: right;\n",
       "    }\n",
       "</style>\n",
       "<table border=\"1\" class=\"dataframe\">\n",
       "  <thead>\n",
       "    <tr style=\"text-align: right;\">\n",
       "      <th></th>\n",
       "      <th>REF</th>\n",
       "      <th>Company (Manufacturer)</th>\n",
       "      <th>Company Location</th>\n",
       "      <th>Review Date</th>\n",
       "      <th>Country of Bean Origin</th>\n",
       "      <th>Specific Bean Origin or Bar Name</th>\n",
       "      <th>Cocoa Percent</th>\n",
       "      <th>Ingredients</th>\n",
       "      <th>Most Memorable Characteristics</th>\n",
       "      <th>Rating</th>\n",
       "      <th>Region</th>\n",
       "      <th>Num_of_Ingredients</th>\n",
       "    </tr>\n",
       "  </thead>\n",
       "  <tbody>\n",
       "  </tbody>\n",
       "</table>\n",
       "</div>"
      ],
      "text/plain": [
       "Empty DataFrame\n",
       "Columns: [REF, Company (Manufacturer), Company Location, Review Date, Country of Bean Origin, Specific Bean Origin or Bar Name, Cocoa Percent, Ingredients, Most Memorable Characteristics, Rating, Region, Num_of_Ingredients]\n",
       "Index: []"
      ]
     },
     "execution_count": 8,
     "metadata": {},
     "output_type": "execute_result"
    }
   ],
   "source": [
    "# Checking for duplicate values.\n",
    "dups = choc_ratg_clnd1[choc_ratg_clnd1.duplicated()]\n",
    "dups"
   ]
  },
  {
   "cell_type": "markdown",
   "id": "24528204",
   "metadata": {},
   "source": [
    "There are no duplicate values that are showing up."
   ]
  },
  {
   "cell_type": "markdown",
   "id": "4902957c",
   "metadata": {},
   "source": [
    "### Extra steps of preprocessing."
   ]
  },
  {
   "cell_type": "code",
   "execution_count": 9,
   "id": "c6380ee3",
   "metadata": {
    "scrolled": false
   },
   "outputs": [
    {
     "data": {
      "text/plain": [
       "<Axes: xlabel='REF', ylabel='Count'>"
      ]
     },
     "execution_count": 9,
     "metadata": {},
     "output_type": "execute_result"
    },
    {
     "data": {
      "image/png": "[encoded data removed]",
      "text/plain": [
       "<Figure size 640x480 with 1 Axes>"
      ]
     },
     "metadata": {},
     "output_type": "display_data"
    }
   ],
   "source": [
    "# Shows extreme/outlier values for 'REF'\n",
    "sns.histplot(choc_ratg_clnd1['REF'], bins=25, kde = True)"
   ]
  },
  {
   "cell_type": "code",
   "execution_count": 10,
   "id": "b9d7e886",
   "metadata": {},
   "outputs": [
    {
     "name": "stdout",
     "output_type": "stream",
     "text": [
      "802.0 2079.0\n"
     ]
    }
   ],
   "source": [
    "# Checking for IQR (Interquartile Range) for 'REF'.\n",
    "q1, q3 = np. percentile (choc_ratg_clnd1['REF'], [25, 75])\n",
    "print(q1, q3)"
   ]
  },
  {
   "cell_type": "code",
   "execution_count": 11,
   "id": "f93aabc1",
   "metadata": {},
   "outputs": [
    {
     "name": "stdout",
     "output_type": "stream",
     "text": [
      "1277.0\n"
     ]
    }
   ],
   "source": [
    "iqr = q3 - q1\n",
    "print(iqr)"
   ]
  },
  {
   "cell_type": "code",
   "execution_count": 12,
   "id": "f4875f9f",
   "metadata": {},
   "outputs": [
    {
     "data": {
      "text/plain": [
       "<Axes: xlabel='Review Date', ylabel='Count'>"
      ]
     },
     "execution_count": 12,
     "metadata": {},
     "output_type": "execute_result"
    },
    {
     "data": {
      "image/png": "[encoded data removed]",
      "text/plain": [
       "<Figure size 640x480 with 1 Axes>"
      ]
     },
     "metadata": {},
     "output_type": "display_data"
    }
   ],
   "source": [
    "# Shows extreme/outlier values for 'Review Date'\n",
    "sns.histplot(choc_ratg_clnd1['Review Date'], bins=31, kde = True)"
   ]
  },
  {
   "cell_type": "code",
   "execution_count": 13,
   "id": "9dde8800",
   "metadata": {},
   "outputs": [
    {
     "data": {
      "text/plain": [
       "<Axes: xlabel='Cocoa Percent', ylabel='Count'>"
      ]
     },
     "execution_count": 13,
     "metadata": {},
     "output_type": "execute_result"
    },
    {
     "data": {
      "image/png": "[encoded data removed]",
      "text/plain": [
       "<Figure size 640x480 with 1 Axes>"
      ]
     },
     "metadata": {},
     "output_type": "display_data"
    }
   ],
   "source": [
    "# Shows extreme/outlier values for 'Cocoa Percent'\n",
    "sns.histplot(choc_ratg_clnd1['Cocoa Percent'], bins=30, kde = True) "
   ]
  },
  {
   "cell_type": "code",
   "execution_count": 14,
   "id": "2a16d065",
   "metadata": {},
   "outputs": [
    {
     "name": "stdout",
     "output_type": "stream",
     "text": [
      "70.0 74.0\n"
     ]
    }
   ],
   "source": [
    "# Checking for IQR (Interquartile Range) for 'Cocoa Percent'.\n",
    "q1, q3 = np. percentile (choc_ratg_clnd1['Cocoa Percent'], [25, 75])\n",
    "print(q1, q3)"
   ]
  },
  {
   "cell_type": "code",
   "execution_count": 15,
   "id": "06749010",
   "metadata": {},
   "outputs": [
    {
     "name": "stdout",
     "output_type": "stream",
     "text": [
      "4.0\n"
     ]
    }
   ],
   "source": [
    "iqr = q3 - q1\n",
    "print(iqr)"
   ]
  },
  {
   "cell_type": "code",
   "execution_count": 16,
   "id": "387d5775",
   "metadata": {},
   "outputs": [
    {
     "data": {
      "text/plain": [
       "<Axes: xlabel='Rating', ylabel='Count'>"
      ]
     },
     "execution_count": 16,
     "metadata": {},
     "output_type": "execute_result"
    },
    {
     "data": {
      "image/png": "[encoded data removed]",
      "text/plain": [
       "<Figure size 640x480 with 1 Axes>"
      ]
     },
     "metadata": {},
     "output_type": "display_data"
    }
   ],
   "source": [
    "# Shows extreme/outlier values for 'Rating'\n",
    "sns.histplot(choc_ratg_clnd1['Rating'], bins=16, kde = True) "
   ]
  },
  {
   "cell_type": "code",
   "execution_count": 17,
   "id": "c756c9d4",
   "metadata": {},
   "outputs": [
    {
     "name": "stdout",
     "output_type": "stream",
     "text": [
      "3.0 3.5\n"
     ]
    }
   ],
   "source": [
    "# Checking for IQR (Interquartile Range) for 'Rating'.\n",
    "Rtngq1, q3 = np. percentile (choc_ratg_clnd1['Rating'], [25, 75])\n",
    "print(Rtngq1, q3)"
   ]
  },
  {
   "cell_type": "code",
   "execution_count": 18,
   "id": "1486afe9",
   "metadata": {
    "scrolled": false
   },
   "outputs": [
    {
     "data": {
      "text/plain": [
       "<Axes: xlabel='Num_of_Ingredients', ylabel='Count'>"
      ]
     },
     "execution_count": 18,
     "metadata": {},
     "output_type": "execute_result"
    },
    {
     "data": {
      "image/png": "[encoded data removed]",
      "text/plain": [
       "<Figure size 640x480 with 1 Axes>"
      ]
     },
     "metadata": {},
     "output_type": "display_data"
    }
   ],
   "source": [
    "# Shows extreme/outlier values for 'Num_of_Ingredients'\n",
    "sns.histplot(choc_ratg_clnd1['Num_of_Ingredients'], bins=20, kde = True) "
   ]
  },
  {
   "cell_type": "code",
   "execution_count": 19,
   "id": "01a750fa",
   "metadata": {},
   "outputs": [
    {
     "data": {
      "text/html": [
       "<div>\n",
       "<style scoped>\n",
       "    .dataframe tbody tr th:only-of-type {\n",
       "        vertical-align: middle;\n",
       "    }\n",
       "\n",
       "    .dataframe tbody tr th {\n",
       "        vertical-align: top;\n",
       "    }\n",
       "\n",
       "    .dataframe thead th {\n",
       "        text-align: right;\n",
       "    }\n",
       "</style>\n",
       "<table border=\"1\" class=\"dataframe\">\n",
       "  <thead>\n",
       "    <tr style=\"text-align: right;\">\n",
       "      <th></th>\n",
       "      <th>REF</th>\n",
       "      <th>Review Date</th>\n",
       "      <th>Cocoa Percent</th>\n",
       "      <th>Rating</th>\n",
       "      <th>Num_of_Ingredients</th>\n",
       "    </tr>\n",
       "  </thead>\n",
       "  <tbody>\n",
       "    <tr>\n",
       "      <th>count</th>\n",
       "      <td>2530.000000</td>\n",
       "      <td>2530.000000</td>\n",
       "      <td>2530.000000</td>\n",
       "      <td>2530.000000</td>\n",
       "      <td>2530.000000</td>\n",
       "    </tr>\n",
       "    <tr>\n",
       "      <th>mean</th>\n",
       "      <td>1429.800791</td>\n",
       "      <td>2014.374308</td>\n",
       "      <td>71.639723</td>\n",
       "      <td>3.196344</td>\n",
       "      <td>2.936759</td>\n",
       "    </tr>\n",
       "    <tr>\n",
       "      <th>std</th>\n",
       "      <td>757.648556</td>\n",
       "      <td>3.968267</td>\n",
       "      <td>5.616724</td>\n",
       "      <td>0.445321</td>\n",
       "      <td>1.055195</td>\n",
       "    </tr>\n",
       "    <tr>\n",
       "      <th>min</th>\n",
       "      <td>5.000000</td>\n",
       "      <td>2006.000000</td>\n",
       "      <td>42.000000</td>\n",
       "      <td>1.000000</td>\n",
       "      <td>0.000000</td>\n",
       "    </tr>\n",
       "    <tr>\n",
       "      <th>25%</th>\n",
       "      <td>802.000000</td>\n",
       "      <td>2012.000000</td>\n",
       "      <td>70.000000</td>\n",
       "      <td>3.000000</td>\n",
       "      <td>2.000000</td>\n",
       "    </tr>\n",
       "    <tr>\n",
       "      <th>50%</th>\n",
       "      <td>1454.000000</td>\n",
       "      <td>2015.000000</td>\n",
       "      <td>70.000000</td>\n",
       "      <td>3.250000</td>\n",
       "      <td>3.000000</td>\n",
       "    </tr>\n",
       "    <tr>\n",
       "      <th>75%</th>\n",
       "      <td>2079.000000</td>\n",
       "      <td>2018.000000</td>\n",
       "      <td>74.000000</td>\n",
       "      <td>3.500000</td>\n",
       "      <td>4.000000</td>\n",
       "    </tr>\n",
       "    <tr>\n",
       "      <th>max</th>\n",
       "      <td>2712.000000</td>\n",
       "      <td>2021.000000</td>\n",
       "      <td>100.000000</td>\n",
       "      <td>4.000000</td>\n",
       "      <td>6.000000</td>\n",
       "    </tr>\n",
       "  </tbody>\n",
       "</table>\n",
       "</div>"
      ],
      "text/plain": [
       "               REF  Review Date  Cocoa Percent       Rating  \\\n",
       "count  2530.000000  2530.000000    2530.000000  2530.000000   \n",
       "mean   1429.800791  2014.374308      71.639723     3.196344   \n",
       "std     757.648556     3.968267       5.616724     0.445321   \n",
       "min       5.000000  2006.000000      42.000000     1.000000   \n",
       "25%     802.000000  2012.000000      70.000000     3.000000   \n",
       "50%    1454.000000  2015.000000      70.000000     3.250000   \n",
       "75%    2079.000000  2018.000000      74.000000     3.500000   \n",
       "max    2712.000000  2021.000000     100.000000     4.000000   \n",
       "\n",
       "       Num_of_Ingredients  \n",
       "count         2530.000000  \n",
       "mean             2.936759  \n",
       "std              1.055195  \n",
       "min              0.000000  \n",
       "25%              2.000000  \n",
       "50%              3.000000  \n",
       "75%              4.000000  \n",
       "max              6.000000  "
      ]
     },
     "execution_count": 19,
     "metadata": {},
     "output_type": "execute_result"
    }
   ],
   "source": [
    "choc_ratg_clnd1.describe()"
   ]
  },
  {
   "cell_type": "code",
   "execution_count": 20,
   "id": "939b9ced",
   "metadata": {},
   "outputs": [
    {
     "data": {
      "text/plain": [
       "<Axes: xlabel='Cocoa Percent'>"
      ]
     },
     "execution_count": 20,
     "metadata": {},
     "output_type": "execute_result"
    },
    {
     "data": {
      "image/png": "[encoded data removed]",
      "text/plain": [
       "<Figure size 640x480 with 1 Axes>"
      ]
     },
     "metadata": {},
     "output_type": "display_data"
    }
   ],
   "source": [
    "# Shows extreme/outlier values for 'Cocoa Percent' in a boxplot.\n",
    "# Easier to see the outliers with a box plot.\n",
    "sns.boxplot(x = choc_ratg_clnd1['Cocoa Percent'])"
   ]
  },
  {
   "cell_type": "code",
   "execution_count": 21,
   "id": "29dcfd9c",
   "metadata": {
    "scrolled": true
   },
   "outputs": [
    {
     "data": {
      "text/plain": [
       "70.0"
      ]
     },
     "execution_count": 21,
     "metadata": {},
     "output_type": "execute_result"
    }
   ],
   "source": [
    "# Finding quartile 1 value.\n",
    "choc_ratg_clnd1['Cocoa Percent'].quantile(0.25)"
   ]
  },
  {
   "cell_type": "code",
   "execution_count": 22,
   "id": "87153716",
   "metadata": {},
   "outputs": [
    {
     "data": {
      "text/plain": [
       "74.0"
      ]
     },
     "execution_count": 22,
     "metadata": {},
     "output_type": "execute_result"
    }
   ],
   "source": [
    "# Finding quartile 3 value.\n",
    "choc_ratg_clnd1['Cocoa Percent'].quantile(0.75)"
   ]
  },
  {
   "cell_type": "code",
   "execution_count": 23,
   "id": "a830f036",
   "metadata": {},
   "outputs": [
    {
     "data": {
      "text/plain": [
       "4.0"
      ]
     },
     "execution_count": 23,
     "metadata": {},
     "output_type": "execute_result"
    }
   ],
   "source": [
    "# Subtracting quartile 1 from 3 to get the IQR.\n",
    "CP_Q1 = choc_ratg_clnd1['Cocoa Percent'].quantile(0.25)\n",
    "CP_Q3 = choc_ratg_clnd1['Cocoa Percent'].quantile(0.75)\n",
    "IQR = CP_Q3 - CP_Q1\n",
    "IQR"
   ]
  },
  {
   "cell_type": "code",
   "execution_count": 24,
   "id": "c33b49ba",
   "metadata": {},
   "outputs": [],
   "source": [
    "# Finding lower and upper IQR limit.\n",
    "CP_lower_lim = CP_Q1 - 1.5 * IQR\n",
    "CP_upper_lim = CP_Q3 + 1.5 * IQR"
   ]
  },
  {
   "cell_type": "code",
   "execution_count": 25,
   "id": "9d8a6bb8",
   "metadata": {},
   "outputs": [
    {
     "data": {
      "text/plain": [
       "64.0"
      ]
     },
     "execution_count": 25,
     "metadata": {},
     "output_type": "execute_result"
    }
   ],
   "source": [
    "CP_lower_lim"
   ]
  },
  {
   "cell_type": "code",
   "execution_count": 26,
   "id": "67866d24",
   "metadata": {},
   "outputs": [
    {
     "data": {
      "text/plain": [
       "80.0"
      ]
     },
     "execution_count": 26,
     "metadata": {},
     "output_type": "execute_result"
    }
   ],
   "source": [
    "CP_upper_lim"
   ]
  },
  {
   "cell_type": "code",
   "execution_count": 27,
   "id": "31963021",
   "metadata": {},
   "outputs": [],
   "source": [
    "CP_outliers_low = (choc_ratg_clnd1['Cocoa Percent'] < CP_lower_lim)"
   ]
  },
  {
   "cell_type": "code",
   "execution_count": 28,
   "id": "3b3bf849",
   "metadata": {},
   "outputs": [],
   "source": [
    "CP_outliers_up = (choc_ratg_clnd1['Cocoa Percent'] > CP_upper_lim)"
   ]
  },
  {
   "cell_type": "code",
   "execution_count": 29,
   "id": "67171d03",
   "metadata": {},
   "outputs": [
    {
     "data": {
      "text/plain": [
       "2295"
      ]
     },
     "execution_count": 29,
     "metadata": {},
     "output_type": "execute_result"
    }
   ],
   "source": [
    "# Dropping/removing the outliers.\n",
    "len(choc_ratg_clnd1['Cocoa Percent']) - (len(choc_ratg_clnd1['Cocoa Percent'][CP_outliers_low]) + len(choc_ratg_clnd1['Cocoa Percent'][CP_outliers_up]))"
   ]
  },
  {
   "cell_type": "code",
   "execution_count": 30,
   "id": "a9b72645",
   "metadata": {},
   "outputs": [
    {
     "data": {
      "text/plain": [
       "8       63.0\n",
       "19      63.0\n",
       "29      63.0\n",
       "31      63.0\n",
       "37      60.0\n",
       "        ... \n",
       "2496    85.0\n",
       "2511    62.0\n",
       "2517    90.0\n",
       "2522    58.0\n",
       "2523    62.0\n",
       "Name: Cocoa Percent, Length: 235, dtype: float64"
      ]
     },
     "execution_count": 30,
     "metadata": {},
     "output_type": "execute_result"
    }
   ],
   "source": [
    "choc_ratg_clnd1['Cocoa Percent'][(CP_outliers_low | CP_outliers_up)]"
   ]
  },
  {
   "cell_type": "code",
   "execution_count": 31,
   "id": "2544c411",
   "metadata": {},
   "outputs": [
    {
     "data": {
      "text/plain": [
       "0       76.0\n",
       "1       76.0\n",
       "2       76.0\n",
       "3       68.0\n",
       "4       72.0\n",
       "        ... \n",
       "2525    80.0\n",
       "2526    75.0\n",
       "2527    75.0\n",
       "2528    70.0\n",
       "2529    72.0\n",
       "Name: Cocoa Percent, Length: 2295, dtype: float64"
      ]
     },
     "execution_count": 31,
     "metadata": {},
     "output_type": "execute_result"
    }
   ],
   "source": [
    "choc_ratg_clnd1['Cocoa Percent'][~(CP_outliers_low | CP_outliers_up)]"
   ]
  },
  {
   "cell_type": "code",
   "execution_count": 32,
   "id": "e4d32da7",
   "metadata": {},
   "outputs": [
    {
     "data": {
      "text/plain": [
       "<Axes: xlabel='Num_of_Ingredients'>"
      ]
     },
     "execution_count": 32,
     "metadata": {},
     "output_type": "execute_result"
    },
    {
     "data": {
      "image/png": "[encoded data removed]",
      "text/plain": [
       "<Figure size 640x480 with 1 Axes>"
      ]
     },
     "metadata": {},
     "output_type": "display_data"
    }
   ],
   "source": [
    "# Shows extreme/outlier values for 'Num_of_Ingredients' in a boxplot.\n",
    "# Easier to see the outliers with a box plot.\n",
    "sns.boxplot(x = choc_ratg_clnd1['Num_of_Ingredients'])"
   ]
  },
  {
   "cell_type": "code",
   "execution_count": 33,
   "id": "8def24b0",
   "metadata": {},
   "outputs": [
    {
     "data": {
      "text/plain": [
       "2.0"
      ]
     },
     "execution_count": 33,
     "metadata": {},
     "output_type": "execute_result"
    }
   ],
   "source": [
    "# Finding quartile 1 value.\n",
    "choc_ratg_clnd1['Num_of_Ingredients'].quantile(0.25)"
   ]
  },
  {
   "cell_type": "code",
   "execution_count": 34,
   "id": "78402554",
   "metadata": {},
   "outputs": [
    {
     "data": {
      "text/plain": [
       "4.0"
      ]
     },
     "execution_count": 34,
     "metadata": {},
     "output_type": "execute_result"
    }
   ],
   "source": [
    "# Finding quartile 3 value.\n",
    "choc_ratg_clnd1['Num_of_Ingredients'].quantile(0.75)"
   ]
  },
  {
   "cell_type": "code",
   "execution_count": 35,
   "id": "7223d8e4",
   "metadata": {},
   "outputs": [
    {
     "data": {
      "text/plain": [
       "4.0"
      ]
     },
     "execution_count": 35,
     "metadata": {},
     "output_type": "execute_result"
    }
   ],
   "source": [
    "# Subtracting quartile 1 from 3 to get the IQR.\n",
    "NI_Q1 = choc_ratg_clnd1['Num_of_Ingredients'].quantile(0.25)\n",
    "NI_Q3 = choc_ratg_clnd1['Num_of_Ingredients'].quantile(0.75)\n",
    "IQR = CP_Q3 - CP_Q1\n",
    "IQR"
   ]
  },
  {
   "cell_type": "code",
   "execution_count": 36,
   "id": "4f2af648",
   "metadata": {},
   "outputs": [],
   "source": [
    "# Finding lower and upper IQR limit.\n",
    "NI_lower_lim = NI_Q1 - 1.5 * IQR\n",
    "NI_upper_lim = NI_Q3 + 1.5 * IQR"
   ]
  },
  {
   "cell_type": "code",
   "execution_count": 37,
   "id": "1c19dc9c",
   "metadata": {},
   "outputs": [
    {
     "data": {
      "text/plain": [
       "-4.0"
      ]
     },
     "execution_count": 37,
     "metadata": {},
     "output_type": "execute_result"
    }
   ],
   "source": [
    "NI_lower_lim"
   ]
  },
  {
   "cell_type": "code",
   "execution_count": 38,
   "id": "b8730b7b",
   "metadata": {},
   "outputs": [
    {
     "data": {
      "text/plain": [
       "10.0"
      ]
     },
     "execution_count": 38,
     "metadata": {},
     "output_type": "execute_result"
    }
   ],
   "source": [
    "NI_upper_lim"
   ]
  },
  {
   "cell_type": "code",
   "execution_count": 39,
   "id": "e2b2a8dc",
   "metadata": {},
   "outputs": [],
   "source": [
    "NI_outliers_low = (choc_ratg_clnd1['Num_of_Ingredients'] < NI_lower_lim)"
   ]
  },
  {
   "cell_type": "code",
   "execution_count": 40,
   "id": "0117f864",
   "metadata": {},
   "outputs": [],
   "source": [
    "NI_outliers_up = (choc_ratg_clnd1['Num_of_Ingredients'] > NI_upper_lim)"
   ]
  },
  {
   "cell_type": "code",
   "execution_count": 41,
   "id": "da96ed78",
   "metadata": {},
   "outputs": [
    {
     "data": {
      "text/plain": [
       "2530"
      ]
     },
     "execution_count": 41,
     "metadata": {},
     "output_type": "execute_result"
    }
   ],
   "source": [
    "# Dropping/removing the outliers.\n",
    "len(choc_ratg_clnd1['Num_of_Ingredients']) - (len(choc_ratg_clnd1['Num_of_Ingredients'][NI_outliers_low]) + len(choc_ratg_clnd1['Num_of_Ingredients'][NI_outliers_up]))"
   ]
  },
  {
   "cell_type": "code",
   "execution_count": 42,
   "id": "d12954c6",
   "metadata": {},
   "outputs": [
    {
     "data": {
      "text/plain": [
       "Series([], Name: Num_of_Ingredients, dtype: int64)"
      ]
     },
     "execution_count": 42,
     "metadata": {},
     "output_type": "execute_result"
    }
   ],
   "source": [
    "choc_ratg_clnd1['Num_of_Ingredients'][(NI_outliers_low | NI_outliers_up)]"
   ]
  },
  {
   "cell_type": "code",
   "execution_count": 43,
   "id": "1e6983b3",
   "metadata": {},
   "outputs": [
    {
     "data": {
      "text/plain": [
       "0       3\n",
       "1       3\n",
       "2       3\n",
       "3       3\n",
       "4       3\n",
       "       ..\n",
       "2525    4\n",
       "2526    3\n",
       "2527    3\n",
       "2528    3\n",
       "2529    3\n",
       "Name: Num_of_Ingredients, Length: 2530, dtype: int64"
      ]
     },
     "execution_count": 43,
     "metadata": {},
     "output_type": "execute_result"
    }
   ],
   "source": [
    "choc_ratg_clnd1['Num_of_Ingredients'][~(NI_outliers_low | NI_outliers_up)]"
   ]
  },
  {
   "cell_type": "code",
   "execution_count": 44,
   "id": "d2e04bbe",
   "metadata": {
    "scrolled": true
   },
   "outputs": [
    {
     "data": {
      "text/html": [
       "<div>\n",
       "<style scoped>\n",
       "    .dataframe tbody tr th:only-of-type {\n",
       "        vertical-align: middle;\n",
       "    }\n",
       "\n",
       "    .dataframe tbody tr th {\n",
       "        vertical-align: top;\n",
       "    }\n",
       "\n",
       "    .dataframe thead th {\n",
       "        text-align: right;\n",
       "    }\n",
       "</style>\n",
       "<table border=\"1\" class=\"dataframe\">\n",
       "  <thead>\n",
       "    <tr style=\"text-align: right;\">\n",
       "      <th></th>\n",
       "      <th>REF</th>\n",
       "      <th>Company (Manufacturer)</th>\n",
       "      <th>Company Location</th>\n",
       "      <th>Review Date</th>\n",
       "      <th>Country of Bean Origin</th>\n",
       "      <th>Specific Bean Origin or Bar Name</th>\n",
       "      <th>Cocoa Percent</th>\n",
       "      <th>Ingredients</th>\n",
       "      <th>Most Memorable Characteristics</th>\n",
       "      <th>Rating</th>\n",
       "      <th>Region</th>\n",
       "      <th>Num_of_Ingredients</th>\n",
       "    </tr>\n",
       "  </thead>\n",
       "  <tbody>\n",
       "    <tr>\n",
       "      <th>0</th>\n",
       "      <td>2454</td>\n",
       "      <td>5150</td>\n",
       "      <td>U.S.A.</td>\n",
       "      <td>2019</td>\n",
       "      <td>Tanzania</td>\n",
       "      <td>Kokoa Kamili, batch 1</td>\n",
       "      <td>76.0</td>\n",
       "      <td>3.0</td>\n",
       "      <td>rich cocoa, fatty, bready</td>\n",
       "      <td>3.25</td>\n",
       "      <td>U.S.A.</td>\n",
       "      <td>3</td>\n",
       "    </tr>\n",
       "    <tr>\n",
       "      <th>1</th>\n",
       "      <td>2458</td>\n",
       "      <td>5150</td>\n",
       "      <td>U.S.A.</td>\n",
       "      <td>2019</td>\n",
       "      <td>Dominican Republic</td>\n",
       "      <td>Zorzal, batch 1</td>\n",
       "      <td>76.0</td>\n",
       "      <td>3.0</td>\n",
       "      <td>cocoa, vegetal, savory</td>\n",
       "      <td>3.50</td>\n",
       "      <td>U.S.A.</td>\n",
       "      <td>3</td>\n",
       "    </tr>\n",
       "    <tr>\n",
       "      <th>2</th>\n",
       "      <td>2454</td>\n",
       "      <td>5150</td>\n",
       "      <td>U.S.A.</td>\n",
       "      <td>2019</td>\n",
       "      <td>Madagascar</td>\n",
       "      <td>Bejofo Estate, batch 1</td>\n",
       "      <td>76.0</td>\n",
       "      <td>3.0</td>\n",
       "      <td>cocoa, blackberry, full body</td>\n",
       "      <td>3.75</td>\n",
       "      <td>U.S.A.</td>\n",
       "      <td>3</td>\n",
       "    </tr>\n",
       "    <tr>\n",
       "      <th>3</th>\n",
       "      <td>2542</td>\n",
       "      <td>5150</td>\n",
       "      <td>U.S.A.</td>\n",
       "      <td>2021</td>\n",
       "      <td>Fiji</td>\n",
       "      <td>Matasawalevu, batch 1</td>\n",
       "      <td>68.0</td>\n",
       "      <td>3.0</td>\n",
       "      <td>chewy, off, rubbery</td>\n",
       "      <td>3.00</td>\n",
       "      <td>U.S.A.</td>\n",
       "      <td>3</td>\n",
       "    </tr>\n",
       "    <tr>\n",
       "      <th>4</th>\n",
       "      <td>2546</td>\n",
       "      <td>5150</td>\n",
       "      <td>U.S.A.</td>\n",
       "      <td>2021</td>\n",
       "      <td>Venezuela</td>\n",
       "      <td>Sur del Lago, batch 1</td>\n",
       "      <td>72.0</td>\n",
       "      <td>3.0</td>\n",
       "      <td>fatty, earthy, moss, nutty,chalky</td>\n",
       "      <td>3.00</td>\n",
       "      <td>U.S.A.</td>\n",
       "      <td>3</td>\n",
       "    </tr>\n",
       "    <tr>\n",
       "      <th>...</th>\n",
       "      <td>...</td>\n",
       "      <td>...</td>\n",
       "      <td>...</td>\n",
       "      <td>...</td>\n",
       "      <td>...</td>\n",
       "      <td>...</td>\n",
       "      <td>...</td>\n",
       "      <td>...</td>\n",
       "      <td>...</td>\n",
       "      <td>...</td>\n",
       "      <td>...</td>\n",
       "      <td>...</td>\n",
       "    </tr>\n",
       "    <tr>\n",
       "      <th>2525</th>\n",
       "      <td>1205</td>\n",
       "      <td>Zotter</td>\n",
       "      <td>Austria</td>\n",
       "      <td>2014</td>\n",
       "      <td>Blend</td>\n",
       "      <td>Raw</td>\n",
       "      <td>80.0</td>\n",
       "      <td>4.0</td>\n",
       "      <td>waxy, cloying, vegetal</td>\n",
       "      <td>2.75</td>\n",
       "      <td>Other</td>\n",
       "      <td>4</td>\n",
       "    </tr>\n",
       "    <tr>\n",
       "      <th>2526</th>\n",
       "      <td>1996</td>\n",
       "      <td>Zotter</td>\n",
       "      <td>Austria</td>\n",
       "      <td>2017</td>\n",
       "      <td>Colombia</td>\n",
       "      <td>APROCAFA, Acandi</td>\n",
       "      <td>75.0</td>\n",
       "      <td>3.0</td>\n",
       "      <td>strong nutty, marshmallow</td>\n",
       "      <td>3.75</td>\n",
       "      <td>Other</td>\n",
       "      <td>3</td>\n",
       "    </tr>\n",
       "    <tr>\n",
       "      <th>2527</th>\n",
       "      <td>2036</td>\n",
       "      <td>Zotter</td>\n",
       "      <td>Austria</td>\n",
       "      <td>2018</td>\n",
       "      <td>Blend</td>\n",
       "      <td>Dry Aged, 30 yr Anniversary bar</td>\n",
       "      <td>75.0</td>\n",
       "      <td>3.0</td>\n",
       "      <td>fatty, earthy, cocoa</td>\n",
       "      <td>3.00</td>\n",
       "      <td>Other</td>\n",
       "      <td>3</td>\n",
       "    </tr>\n",
       "    <tr>\n",
       "      <th>2528</th>\n",
       "      <td>2170</td>\n",
       "      <td>Zotter</td>\n",
       "      <td>Austria</td>\n",
       "      <td>2018</td>\n",
       "      <td>Congo</td>\n",
       "      <td>Mountains of the Moon</td>\n",
       "      <td>70.0</td>\n",
       "      <td>3.0</td>\n",
       "      <td>fatty, mild nuts, mild fruit</td>\n",
       "      <td>3.25</td>\n",
       "      <td>Other</td>\n",
       "      <td>3</td>\n",
       "    </tr>\n",
       "    <tr>\n",
       "      <th>2529</th>\n",
       "      <td>2170</td>\n",
       "      <td>Zotter</td>\n",
       "      <td>Austria</td>\n",
       "      <td>2018</td>\n",
       "      <td>Belize</td>\n",
       "      <td>Maya Mtn</td>\n",
       "      <td>72.0</td>\n",
       "      <td>3.0</td>\n",
       "      <td>muted, roasty, accessible</td>\n",
       "      <td>3.50</td>\n",
       "      <td>Other</td>\n",
       "      <td>3</td>\n",
       "    </tr>\n",
       "  </tbody>\n",
       "</table>\n",
       "<p>2530 rows × 12 columns</p>\n",
       "</div>"
      ],
      "text/plain": [
       "       REF Company (Manufacturer) Company Location  Review Date  \\\n",
       "0     2454                   5150           U.S.A.         2019   \n",
       "1     2458                   5150           U.S.A.         2019   \n",
       "2     2454                   5150           U.S.A.         2019   \n",
       "3     2542                   5150           U.S.A.         2021   \n",
       "4     2546                   5150           U.S.A.         2021   \n",
       "...    ...                    ...              ...          ...   \n",
       "2525  1205                 Zotter          Austria         2014   \n",
       "2526  1996                 Zotter          Austria         2017   \n",
       "2527  2036                 Zotter          Austria         2018   \n",
       "2528  2170                 Zotter          Austria         2018   \n",
       "2529  2170                 Zotter          Austria         2018   \n",
       "\n",
       "     Country of Bean Origin Specific Bean Origin or Bar Name  Cocoa Percent  \\\n",
       "0                  Tanzania            Kokoa Kamili, batch 1           76.0   \n",
       "1        Dominican Republic                  Zorzal, batch 1           76.0   \n",
       "2                Madagascar           Bejofo Estate, batch 1           76.0   \n",
       "3                      Fiji            Matasawalevu, batch 1           68.0   \n",
       "4                 Venezuela            Sur del Lago, batch 1           72.0   \n",
       "...                     ...                              ...            ...   \n",
       "2525                  Blend                              Raw           80.0   \n",
       "2526               Colombia                 APROCAFA, Acandi           75.0   \n",
       "2527                  Blend  Dry Aged, 30 yr Anniversary bar           75.0   \n",
       "2528                  Congo            Mountains of the Moon           70.0   \n",
       "2529                 Belize                         Maya Mtn           72.0   \n",
       "\n",
       "     Ingredients     Most Memorable Characteristics  Rating  Region  \\\n",
       "0            3.0          rich cocoa, fatty, bready    3.25  U.S.A.   \n",
       "1            3.0             cocoa, vegetal, savory    3.50  U.S.A.   \n",
       "2            3.0       cocoa, blackberry, full body    3.75  U.S.A.   \n",
       "3            3.0                chewy, off, rubbery    3.00  U.S.A.   \n",
       "4            3.0  fatty, earthy, moss, nutty,chalky    3.00  U.S.A.   \n",
       "...          ...                                ...     ...     ...   \n",
       "2525         4.0             waxy, cloying, vegetal    2.75   Other   \n",
       "2526         3.0          strong nutty, marshmallow    3.75   Other   \n",
       "2527         3.0               fatty, earthy, cocoa    3.00   Other   \n",
       "2528         3.0       fatty, mild nuts, mild fruit    3.25   Other   \n",
       "2529         3.0          muted, roasty, accessible    3.50   Other   \n",
       "\n",
       "      Num_of_Ingredients  \n",
       "0                      3  \n",
       "1                      3  \n",
       "2                      3  \n",
       "3                      3  \n",
       "4                      3  \n",
       "...                  ...  \n",
       "2525                   4  \n",
       "2526                   3  \n",
       "2527                   3  \n",
       "2528                   3  \n",
       "2529                   3  \n",
       "\n",
       "[2530 rows x 12 columns]"
      ]
     },
     "execution_count": 44,
     "metadata": {},
     "output_type": "execute_result"
    }
   ],
   "source": [
    "choc_ratg_clnd1"
   ]
  },
  {
   "cell_type": "code",
   "execution_count": 45,
   "id": "3ed05adc",
   "metadata": {},
   "outputs": [],
   "source": [
    "# Exporting chocolate ratings cleaned 1.\n",
    "choc_ratg_clnd1.to_csv(os.path.join(path, 'Changed', 'chocolate_ratings_cleaned1.csv'))"
   ]
  },
  {
   "cell_type": "markdown",
   "id": "f7b535ef",
   "metadata": {},
   "source": [
    "#### 3. Data cleaning."
   ]
  },
  {
   "cell_type": "markdown",
   "id": "20ceedfd",
   "metadata": {},
   "source": [
    "I imported the chocolate ratings dataframe that had already been cleaned  and wrangled and all the extra little steps from the previous Exercise."
   ]
  },
  {
   "cell_type": "markdown",
   "id": "23152fb7",
   "metadata": {},
   "source": [
    "#### 4. Explore your data visually."
   ]
  },
  {
   "cell_type": "code",
   "execution_count": 46,
   "id": "ebe30c63",
   "metadata": {},
   "outputs": [
    {
     "data": {
      "image/png": "[encoded data removed]",
      "text/plain": [
       "<Figure size 640x480 with 1 Axes>"
      ]
     },
     "metadata": {},
     "output_type": "display_data"
    }
   ],
   "source": [
    "choc_ratg_clnd1.plot(x = 'Num_of_Ingredients', y='Cocoa Percent',style='o')\n",
    "plt.title('Cocoa Percent by Num_of_Ingredients')\n",
    "plt.xlabel('Num_of_Ingredients')\n",
    "plt.ylabel('Cocoa Percent')\n",
    "plt.show()"
   ]
  },
  {
   "cell_type": "markdown",
   "id": "ed108f60",
   "metadata": {},
   "source": [
    "#### 5. State your hypothesis."
   ]
  },
  {
   "cell_type": "markdown",
   "id": "be2a267b",
   "metadata": {},
   "source": [
    "For the Num_of_Ingredients that is put into the chocolate, most chocolate bars will have 2 - 4 ingredients in them because too little (0 - 1) or too much (5 - 6) might give the chocolate bars a too sweet taste or too bitter taste."
   ]
  },
  {
   "cell_type": "markdown",
   "id": "aad0e78b",
   "metadata": {},
   "source": [
    "#### 6. Reshape the variables into NumPy arrays."
   ]
  },
  {
   "cell_type": "code",
   "execution_count": 47,
   "id": "b34f0f31",
   "metadata": {},
   "outputs": [],
   "source": [
    "# Reshaping the variables.\n",
    "X = choc_ratg_clnd1['Cocoa Percent'].values.reshape(-1,1)\n",
    "y = choc_ratg_clnd1['Num_of_Ingredients'].values.reshape(-1,1)"
   ]
  },
  {
   "cell_type": "code",
   "execution_count": 48,
   "id": "a18e7af9",
   "metadata": {},
   "outputs": [
    {
     "data": {
      "text/plain": [
       "array([[76.],\n",
       "       [76.],\n",
       "       [76.],\n",
       "       ...,\n",
       "       [75.],\n",
       "       [70.],\n",
       "       [72.]])"
      ]
     },
     "execution_count": 48,
     "metadata": {},
     "output_type": "execute_result"
    }
   ],
   "source": [
    "X"
   ]
  },
  {
   "cell_type": "code",
   "execution_count": 49,
   "id": "b8c5c58e",
   "metadata": {},
   "outputs": [
    {
     "data": {
      "text/plain": [
       "array([[3],\n",
       "       [3],\n",
       "       [3],\n",
       "       ...,\n",
       "       [3],\n",
       "       [3],\n",
       "       [3]])"
      ]
     },
     "execution_count": 49,
     "metadata": {},
     "output_type": "execute_result"
    }
   ],
   "source": [
    "y"
   ]
  },
  {
   "cell_type": "markdown",
   "id": "d3f1889c",
   "metadata": {},
   "source": [
    "#### 7. Split the data into two sets: a training set and a test set."
   ]
  },
  {
   "cell_type": "code",
   "execution_count": 50,
   "id": "13cc9c94",
   "metadata": {},
   "outputs": [],
   "source": [
    "# Spliting the data.\n",
    "X_train, X_test, y_train, y_test = train_test_split(X, y, test_size=0.3, random_state=0)"
   ]
  },
  {
   "cell_type": "markdown",
   "id": "1b32b2ab",
   "metadata": {},
   "source": [
    "#### 8. Run a linear regression on the data."
   ]
  },
  {
   "cell_type": "code",
   "execution_count": 51,
   "id": "4ec76908",
   "metadata": {},
   "outputs": [],
   "source": [
    "# This is the regression object, which will be fit onto the training set.\n",
    "regression = LinearRegression()"
   ]
  },
  {
   "cell_type": "code",
   "execution_count": 52,
   "id": "2364afe9",
   "metadata": {},
   "outputs": [
    {
     "data": {
      "text/html": [
       "<style>#sk-container-id-1 {color: black;}#sk-container-id-1 pre{padding: 0;}#sk-container-id-1 div.sk-toggleable {background-color: white;}#sk-container-id-1 label.sk-toggleable__label {cursor: pointer;display: block;width: 100%;margin-bottom: 0;padding: 0.3em;box-sizing: border-box;text-align: center;}#sk-container-id-1 label.sk-toggleable__label-arrow:before {content: \"▸\";float: left;margin-right: 0.25em;color: #696969;}#sk-container-id-1 label.sk-toggleable__label-arrow:hover:before {color: black;}#sk-container-id-1 div.sk-estimator:hover label.sk-toggleable__label-arrow:before {color: black;}#sk-container-id-1 div.sk-toggleable__content {max-height: 0;max-width: 0;overflow: hidden;text-align: left;background-color: #f0f8ff;}#sk-container-id-1 div.sk-toggleable__content pre {margin: 0.2em;color: black;border-radius: 0.25em;background-color: #f0f8ff;}#sk-container-id-1 input.sk-toggleable__control:checked~div.sk-toggleable__content {max-height: 200px;max-width: 100%;overflow: auto;}#sk-container-id-1 input.sk-toggleable__control:checked~label.sk-toggleable__label-arrow:before {content: \"▾\";}#sk-container-id-1 div.sk-estimator input.sk-toggleable__control:checked~label.sk-toggleable__label {background-color: #d4ebff;}#sk-container-id-1 div.sk-label input.sk-toggleable__control:checked~label.sk-toggleable__label {background-color: #d4ebff;}#sk-container-id-1 input.sk-hidden--visually {border: 0;clip: rect(1px 1px 1px 1px);clip: rect(1px, 1px, 1px, 1px);height: 1px;margin: -1px;overflow: hidden;padding: 0;position: absolute;width: 1px;}#sk-container-id-1 div.sk-estimator {font-family: monospace;background-color: #f0f8ff;border: 1px dotted black;border-radius: 0.25em;box-sizing: border-box;margin-bottom: 0.5em;}#sk-container-id-1 div.sk-estimator:hover {background-color: #d4ebff;}#sk-container-id-1 div.sk-parallel-item::after {content: \"\";width: 100%;border-bottom: 1px solid gray;flex-grow: 1;}#sk-container-id-1 div.sk-label:hover label.sk-toggleable__label {background-color: #d4ebff;}#sk-container-id-1 div.sk-serial::before {content: \"\";position: absolute;border-left: 1px solid gray;box-sizing: border-box;top: 0;bottom: 0;left: 50%;z-index: 0;}#sk-container-id-1 div.sk-serial {display: flex;flex-direction: column;align-items: center;background-color: white;padding-right: 0.2em;padding-left: 0.2em;position: relative;}#sk-container-id-1 div.sk-item {position: relative;z-index: 1;}#sk-container-id-1 div.sk-parallel {display: flex;align-items: stretch;justify-content: center;background-color: white;position: relative;}#sk-container-id-1 div.sk-item::before, #sk-container-id-1 div.sk-parallel-item::before {content: \"\";position: absolute;border-left: 1px solid gray;box-sizing: border-box;top: 0;bottom: 0;left: 50%;z-index: -1;}#sk-container-id-1 div.sk-parallel-item {display: flex;flex-direction: column;z-index: 1;position: relative;background-color: white;}#sk-container-id-1 div.sk-parallel-item:first-child::after {align-self: flex-end;width: 50%;}#sk-container-id-1 div.sk-parallel-item:last-child::after {align-self: flex-start;width: 50%;}#sk-container-id-1 div.sk-parallel-item:only-child::after {width: 0;}#sk-container-id-1 div.sk-dashed-wrapped {border: 1px dashed gray;margin: 0 0.4em 0.5em 0.4em;box-sizing: border-box;padding-bottom: 0.4em;background-color: white;}#sk-container-id-1 div.sk-label label {font-family: monospace;font-weight: bold;display: inline-block;line-height: 1.2em;}#sk-container-id-1 div.sk-label-container {text-align: center;}#sk-container-id-1 div.sk-container {/* jupyter's `normalize.less` sets `[hidden] { display: none; }` but bootstrap.min.css set `[hidden] { display: none !important; }` so we also need the `!important` here to be able to override the default hidden behavior on the sphinx rendered scikit-learn.org. See: https://github.com/scikit-learn/scikit-learn/issues/21755 */display: inline-block !important;position: relative;}#sk-container-id-1 div.sk-text-repr-fallback {display: none;}</style><div id=\"sk-container-id-1\" class=\"sk-top-container\"><div class=\"sk-text-repr-fallback\"><pre>LinearRegression()</pre><b>In a Jupyter environment, please rerun this cell to show the HTML representation or trust the notebook. <br />On GitHub, the HTML representation is unable to render, please try loading this page with nbviewer.org.</b></div><div class=\"sk-container\" hidden><div class=\"sk-item\"><div class=\"sk-estimator sk-toggleable\"><input class=\"sk-toggleable__control sk-hidden--visually\" id=\"sk-estimator-id-1\" type=\"checkbox\" checked><label for=\"sk-estimator-id-1\" class=\"sk-toggleable__label sk-toggleable__label-arrow\">LinearRegression</label><div class=\"sk-toggleable__content\"><pre>LinearRegression()</pre></div></div></div></div></div>"
      ],
      "text/plain": [
       "LinearRegression()"
      ]
     },
     "execution_count": 52,
     "metadata": {},
     "output_type": "execute_result"
    }
   ],
   "source": [
    "LinearRegression()"
   ]
  },
  {
   "cell_type": "code",
   "execution_count": 53,
   "id": "29626286",
   "metadata": {},
   "outputs": [
    {
     "data": {
      "text/html": [
       "<style>#sk-container-id-2 {color: black;}#sk-container-id-2 pre{padding: 0;}#sk-container-id-2 div.sk-toggleable {background-color: white;}#sk-container-id-2 label.sk-toggleable__label {cursor: pointer;display: block;width: 100%;margin-bottom: 0;padding: 0.3em;box-sizing: border-box;text-align: center;}#sk-container-id-2 label.sk-toggleable__label-arrow:before {content: \"▸\";float: left;margin-right: 0.25em;color: #696969;}#sk-container-id-2 label.sk-toggleable__label-arrow:hover:before {color: black;}#sk-container-id-2 div.sk-estimator:hover label.sk-toggleable__label-arrow:before {color: black;}#sk-container-id-2 div.sk-toggleable__content {max-height: 0;max-width: 0;overflow: hidden;text-align: left;background-color: #f0f8ff;}#sk-container-id-2 div.sk-toggleable__content pre {margin: 0.2em;color: black;border-radius: 0.25em;background-color: #f0f8ff;}#sk-container-id-2 input.sk-toggleable__control:checked~div.sk-toggleable__content {max-height: 200px;max-width: 100%;overflow: auto;}#sk-container-id-2 input.sk-toggleable__control:checked~label.sk-toggleable__label-arrow:before {content: \"▾\";}#sk-container-id-2 div.sk-estimator input.sk-toggleable__control:checked~label.sk-toggleable__label {background-color: #d4ebff;}#sk-container-id-2 div.sk-label input.sk-toggleable__control:checked~label.sk-toggleable__label {background-color: #d4ebff;}#sk-container-id-2 input.sk-hidden--visually {border: 0;clip: rect(1px 1px 1px 1px);clip: rect(1px, 1px, 1px, 1px);height: 1px;margin: -1px;overflow: hidden;padding: 0;position: absolute;width: 1px;}#sk-container-id-2 div.sk-estimator {font-family: monospace;background-color: #f0f8ff;border: 1px dotted black;border-radius: 0.25em;box-sizing: border-box;margin-bottom: 0.5em;}#sk-container-id-2 div.sk-estimator:hover {background-color: #d4ebff;}#sk-container-id-2 div.sk-parallel-item::after {content: \"\";width: 100%;border-bottom: 1px solid gray;flex-grow: 1;}#sk-container-id-2 div.sk-label:hover label.sk-toggleable__label {background-color: #d4ebff;}#sk-container-id-2 div.sk-serial::before {content: \"\";position: absolute;border-left: 1px solid gray;box-sizing: border-box;top: 0;bottom: 0;left: 50%;z-index: 0;}#sk-container-id-2 div.sk-serial {display: flex;flex-direction: column;align-items: center;background-color: white;padding-right: 0.2em;padding-left: 0.2em;position: relative;}#sk-container-id-2 div.sk-item {position: relative;z-index: 1;}#sk-container-id-2 div.sk-parallel {display: flex;align-items: stretch;justify-content: center;background-color: white;position: relative;}#sk-container-id-2 div.sk-item::before, #sk-container-id-2 div.sk-parallel-item::before {content: \"\";position: absolute;border-left: 1px solid gray;box-sizing: border-box;top: 0;bottom: 0;left: 50%;z-index: -1;}#sk-container-id-2 div.sk-parallel-item {display: flex;flex-direction: column;z-index: 1;position: relative;background-color: white;}#sk-container-id-2 div.sk-parallel-item:first-child::after {align-self: flex-end;width: 50%;}#sk-container-id-2 div.sk-parallel-item:last-child::after {align-self: flex-start;width: 50%;}#sk-container-id-2 div.sk-parallel-item:only-child::after {width: 0;}#sk-container-id-2 div.sk-dashed-wrapped {border: 1px dashed gray;margin: 0 0.4em 0.5em 0.4em;box-sizing: border-box;padding-bottom: 0.4em;background-color: white;}#sk-container-id-2 div.sk-label label {font-family: monospace;font-weight: bold;display: inline-block;line-height: 1.2em;}#sk-container-id-2 div.sk-label-container {text-align: center;}#sk-container-id-2 div.sk-container {/* jupyter's `normalize.less` sets `[hidden] { display: none; }` but bootstrap.min.css set `[hidden] { display: none !important; }` so we also need the `!important` here to be able to override the default hidden behavior on the sphinx rendered scikit-learn.org. See: https://github.com/scikit-learn/scikit-learn/issues/21755 */display: inline-block !important;position: relative;}#sk-container-id-2 div.sk-text-repr-fallback {display: none;}</style><div id=\"sk-container-id-2\" class=\"sk-top-container\"><div class=\"sk-text-repr-fallback\"><pre>LinearRegression()</pre><b>In a Jupyter environment, please rerun this cell to show the HTML representation or trust the notebook. <br />On GitHub, the HTML representation is unable to render, please try loading this page with nbviewer.org.</b></div><div class=\"sk-container\" hidden><div class=\"sk-item\"><div class=\"sk-estimator sk-toggleable\"><input class=\"sk-toggleable__control sk-hidden--visually\" id=\"sk-estimator-id-2\" type=\"checkbox\" checked><label for=\"sk-estimator-id-2\" class=\"sk-toggleable__label sk-toggleable__label-arrow\">LinearRegression</label><div class=\"sk-toggleable__content\"><pre>LinearRegression()</pre></div></div></div></div></div>"
      ],
      "text/plain": [
       "LinearRegression()"
      ]
     },
     "execution_count": 53,
     "metadata": {},
     "output_type": "execute_result"
    }
   ],
   "source": [
    "# Fit the regression object onto the training set.\n",
    "regression.fit(X_train, y_train)"
   ]
  },
  {
   "cell_type": "code",
   "execution_count": 54,
   "id": "2e80e5b8",
   "metadata": {},
   "outputs": [],
   "source": [
    "# Predict the values of y using X.\n",
    "y_predicted = regression.predict(X_test)"
   ]
  },
  {
   "cell_type": "markdown",
   "id": "31bcbc53",
   "metadata": {},
   "source": [
    "#### 9. Create a plot that shows the regression line on the test set."
   ]
  },
  {
   "cell_type": "code",
   "execution_count": null,
   "id": "3f87bcac",
   "metadata": {},
   "outputs": [],
   "source": []
  },
  {
   "cell_type": "code",
   "execution_count": 55,
   "id": "fbc7f7ee",
   "metadata": {
    "scrolled": false
   },
   "outputs": [
    {
     "data": {
      "image/png": "[encoded data removed]",
      "text/plain": [
       "<Figure size 640x480 with 1 Axes>"
      ]
     },
     "metadata": {},
     "output_type": "display_data"
    }
   ],
   "source": [
    "# Create a plot that shows the regression line from the model on the test set.\n",
    "plot_test = plt\n",
    "plot_test.scatter(X_test, y_test, color='gray', s = 15)\n",
    "plot_test.plot(X_test, y_predicted, color='red', linewidth =3)\n",
    "plot_test.title('Cocoa Percent vs Num_of_Ingredients (Test set)')\n",
    "plot_test.xlabel('Num_of_Ingredients')\n",
    "plot_test.ylabel('Cocoa Percents')\n",
    "plot_test.show()"
   ]
  },
  {
   "cell_type": "markdown",
   "id": "f632f485",
   "metadata": {},
   "source": [
    "#### 10. Write your own interpretation of how well the line appears to fit the data."
   ]
  },
  {
   "cell_type": "markdown",
   "id": "dce15436",
   "metadata": {},
   "source": [
    "First off, the trend line shows a downward slope. The lower the Num_of_Ingredients get the higher the percentage of cocoa gets. Which makes sense because the less ingredients are put into the mixture the higher the percentage of cocoa there is in the mixture.\n",
    "\n",
    "Secondly, the trend line does not line up with the data points. The data points are all in rows following the number of ingredients. And does not show any trends compared to the trend line such as clustering along the line. "
   ]
  },
  {
   "cell_type": "markdown",
   "id": "99a1233e",
   "metadata": {},
   "source": [
    "#### 11. Check the model performance statistics—MSE and R2 score."
   ]
  },
  {
   "cell_type": "code",
   "execution_count": 56,
   "id": "195cde6c",
   "metadata": {},
   "outputs": [],
   "source": [
    "# Create objects that contain the model summary statistics.\n",
    "rmse = mean_squared_error(y_test, y_predicted)\n",
    "r2 = r2_score(y_test, y_predicted)"
   ]
  },
  {
   "cell_type": "code",
   "execution_count": 57,
   "id": "658d43df",
   "metadata": {},
   "outputs": [
    {
     "name": "stdout",
     "output_type": "stream",
     "text": [
      "Slope: [[-0.04193026]]\n",
      "Mean squared error:  0.957691726935272\n",
      "R2 score:  0.0400837800618038\n"
     ]
    }
   ],
   "source": [
    "# Print the model summary statistics. This is where you evaluate the performance of the model.\n",
    "print('Slope:' ,regression.coef_)\n",
    "print('Mean squared error: ', rmse)\n",
    "print('R2 score: ', r2)"
   ]
  },
  {
   "cell_type": "markdown",
   "id": "7cddd994",
   "metadata": {},
   "source": [
    "The slope shows a negative slope the means a negative relationship. It shows a negative because as Cocoa Percent (X-variable) rises the Num_of_Ingredients (Y-variable) decreases.\n",
    "\n",
    "The mean squared error shows how close a regression line is to a set of points, its accuracy. So, in my chart the regression line is pretty close to a set of data points.\n",
    "\n",
    "The R2 score shows a number between 0 and 1, where values closer to 0 indicate a poor fit, and values closer to 1 indicate a good fit. In my case my R2 score is 0.04 which is closer to 0, which means that this type of chart is a poor fit for my data."
   ]
  },
  {
   "cell_type": "markdown",
   "id": "e5e00d2c",
   "metadata": {},
   "source": [
    "#### 12. Compare the predicted y values with the actual y values in a dataframe."
   ]
  },
  {
   "cell_type": "code",
   "execution_count": 58,
   "id": "e00a633f",
   "metadata": {},
   "outputs": [],
   "source": [
    "# Create a dataframe comparing the actual and predicted values of y.\n",
    "data = pd.DataFrame({'Actual': y_test.flatten(), 'Predicted': y_predicted.flatten()})"
   ]
  },
  {
   "cell_type": "code",
   "execution_count": 59,
   "id": "6675af1b",
   "metadata": {},
   "outputs": [
    {
     "data": {
      "text/html": [
       "<div>\n",
       "<style scoped>\n",
       "    .dataframe tbody tr th:only-of-type {\n",
       "        vertical-align: middle;\n",
       "    }\n",
       "\n",
       "    .dataframe tbody tr th {\n",
       "        vertical-align: top;\n",
       "    }\n",
       "\n",
       "    .dataframe thead th {\n",
       "        text-align: right;\n",
       "    }\n",
       "</style>\n",
       "<table border=\"1\" class=\"dataframe\">\n",
       "  <thead>\n",
       "    <tr style=\"text-align: right;\">\n",
       "      <th></th>\n",
       "      <th>Actual</th>\n",
       "      <th>Predicted</th>\n",
       "    </tr>\n",
       "  </thead>\n",
       "  <tbody>\n",
       "    <tr>\n",
       "      <th>0</th>\n",
       "      <td>3</td>\n",
       "      <td>2.998154</td>\n",
       "    </tr>\n",
       "    <tr>\n",
       "      <th>1</th>\n",
       "      <td>2</td>\n",
       "      <td>2.998154</td>\n",
       "    </tr>\n",
       "    <tr>\n",
       "      <th>2</th>\n",
       "      <td>2</td>\n",
       "      <td>3.082014</td>\n",
       "    </tr>\n",
       "    <tr>\n",
       "      <th>3</th>\n",
       "      <td>3</td>\n",
       "      <td>3.333596</td>\n",
       "    </tr>\n",
       "    <tr>\n",
       "      <th>4</th>\n",
       "      <td>2</td>\n",
       "      <td>2.998154</td>\n",
       "    </tr>\n",
       "    <tr>\n",
       "      <th>...</th>\n",
       "      <td>...</td>\n",
       "      <td>...</td>\n",
       "    </tr>\n",
       "    <tr>\n",
       "      <th>754</th>\n",
       "      <td>3</td>\n",
       "      <td>2.914293</td>\n",
       "    </tr>\n",
       "    <tr>\n",
       "      <th>755</th>\n",
       "      <td>5</td>\n",
       "      <td>3.396491</td>\n",
       "    </tr>\n",
       "    <tr>\n",
       "      <th>756</th>\n",
       "      <td>4</td>\n",
       "      <td>3.207805</td>\n",
       "    </tr>\n",
       "    <tr>\n",
       "      <th>757</th>\n",
       "      <td>3</td>\n",
       "      <td>2.998154</td>\n",
       "    </tr>\n",
       "    <tr>\n",
       "      <th>758</th>\n",
       "      <td>4</td>\n",
       "      <td>2.788502</td>\n",
       "    </tr>\n",
       "  </tbody>\n",
       "</table>\n",
       "<p>759 rows × 2 columns</p>\n",
       "</div>"
      ],
      "text/plain": [
       "     Actual  Predicted\n",
       "0         3   2.998154\n",
       "1         2   2.998154\n",
       "2         2   3.082014\n",
       "3         3   3.333596\n",
       "4         2   2.998154\n",
       "..      ...        ...\n",
       "754       3   2.914293\n",
       "755       5   3.396491\n",
       "756       4   3.207805\n",
       "757       3   2.998154\n",
       "758       4   2.788502\n",
       "\n",
       "[759 rows x 2 columns]"
      ]
     },
     "execution_count": 59,
     "metadata": {},
     "output_type": "execute_result"
    }
   ],
   "source": [
    "data"
   ]
  },
  {
   "cell_type": "markdown",
   "id": "c0031529",
   "metadata": {},
   "source": [
    "#### Compare how the regression fits the training set"
   ]
  },
  {
   "cell_type": "code",
   "execution_count": 60,
   "id": "965ac606",
   "metadata": {},
   "outputs": [],
   "source": [
    "# Predicting X_train.\n",
    "y_predicted_train = regression.predict(X_train)"
   ]
  },
  {
   "cell_type": "code",
   "execution_count": 61,
   "id": "59f20a86",
   "metadata": {},
   "outputs": [],
   "source": [
    "rmse = mean_squared_error(y_train, y_predicted_train)\n",
    "r2 = r2_score(y_train, y_predicted_train)"
   ]
  },
  {
   "cell_type": "code",
   "execution_count": 62,
   "id": "3c0554ef",
   "metadata": {},
   "outputs": [
    {
     "name": "stdout",
     "output_type": "stream",
     "text": [
      "Slope: [[-0.04193026]]\n",
      "Mean squared error:  1.1063812005959555\n",
      "R2 score:  0.04770468845785847\n"
     ]
    }
   ],
   "source": [
    "# Print the model summary statistics. This is where you evaluate the performance of the model.\n",
    "print('Slope:' ,regression.coef_)\n",
    "print('Mean squared error: ', rmse)\n",
    "print('R2 score: ', r2)"
   ]
  },
  {
   "cell_type": "code",
   "execution_count": 63,
   "id": "7bd02e2a",
   "metadata": {},
   "outputs": [
    {
     "data": {
      "image/png": "[encoded data removed]",
      "text/plain": [
       "<Figure size 640x480 with 1 Axes>"
      ]
     },
     "metadata": {},
     "output_type": "display_data"
    }
   ],
   "source": [
    "# Visualizing the training set results.\n",
    "plot_test = plt\n",
    "plot_test.scatter(X_train, y_train, color='purple', s = 15)\n",
    "plot_test.plot(X_train, y_predicted_train, color='red', linewidth =3)\n",
    "plot_test.title('Cocoa Percent vs Num_of_Ingredients (Train set)')\n",
    "plot_test.xlabel('Cocoa Percent')\n",
    "plot_test.ylabel('Num_of_Ingredients')\n",
    "plot_test.show()"
   ]
  },
  {
   "cell_type": "code",
   "execution_count": null,
   "id": "8a8f1d0c",
   "metadata": {},
   "outputs": [],
   "source": []
  },
  {
   "cell_type": "code",
   "execution_count": null,
   "id": "ece82767",
   "metadata": {},
   "outputs": [],
   "source": []
  }
 ],
 "metadata": {
  "kernelspec": {
   "display_name": "Python 3 (ipykernel)",
   "language": "python",
   "name": "python3"
  },
  "language_info": {
   "codemirror_mode": {
    "name": "ipython",
    "version": 3
   },
   "file_extension": ".py",
   "mimetype": "text/x-python",
   "name": "python",
   "nbconvert_exporter": "python",
   "pygments_lexer": "ipython3",
   "version": "3.10.9"
  }
 },
 "nbformat": 4,
 "nbformat_minor": 5
}
