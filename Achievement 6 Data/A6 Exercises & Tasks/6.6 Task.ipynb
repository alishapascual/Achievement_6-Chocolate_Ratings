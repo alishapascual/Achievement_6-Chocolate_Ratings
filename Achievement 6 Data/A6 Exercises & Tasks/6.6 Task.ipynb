{
 "cells": [
  {
   "cell_type": "markdown",
   "id": "3d901996",
   "metadata": {},
   "source": [
    "# 6.6"
   ]
  },
  {
   "cell_type": "code",
   "execution_count": 1,
   "id": "5ab941b5",
   "metadata": {},
   "outputs": [],
   "source": [
    "# Import Libraries\n",
    "import quandl\n",
    "import pandas as pd\n",
    "import numpy as np\n",
    "import seaborn as sns\n",
    "import matplotlib\n",
    "import matplotlib.pyplot as plt\n",
    "import statsmodels.api as sm\n",
    "import os\n",
    "import warnings\n",
    "\n",
    "warnings.filterwarnings(\"ignore\")\n",
    "\n",
    "plt.style.use('fivethirtyeight')"
   ]
  },
  {
   "cell_type": "code",
   "execution_count": 2,
   "id": "4c612630",
   "metadata": {},
   "outputs": [],
   "source": [
    "# Making a path.\n",
    "path = r'/Users/terencekeys/Downloads/Shawzz Folder/Data Analytics Immersion Files/Achievement 6 Data Sets/Chocolate Data Sets'"
   ]
  },
  {
   "cell_type": "code",
   "execution_count": 3,
   "id": "e0a3a80e",
   "metadata": {},
   "outputs": [],
   "source": [
    "# Importing chocolate ratings cleaned 1 data set.\n",
    "choc_ratg_clnd1 = pd.read_csv(os.path.join(path, 'Changed', 'chocolate_ratings_cleaned1.csv'), index_col=0) "
   ]
  },
  {
   "cell_type": "code",
   "execution_count": 4,
   "id": "9df406e1",
   "metadata": {},
   "outputs": [
    {
     "data": {
      "text/plain": [
       "REF                                   int64\n",
       "Company (Manufacturer)               object\n",
       "Company Location                     object\n",
       "Review Date                           int64\n",
       "Country of Bean Origin               object\n",
       "Specific Bean Origin or Bar Name     object\n",
       "Cocoa Percent                       float64\n",
       "Ingredients                          object\n",
       "Most Memorable Characteristics       object\n",
       "Rating                              float64\n",
       "Region                               object\n",
       "Num_of_Ingredients                    int64\n",
       "dtype: object"
      ]
     },
     "execution_count": 4,
     "metadata": {},
     "output_type": "execute_result"
    }
   ],
   "source": [
    "choc_ratg_clnd1.dtypes"
   ]
  },
  {
   "cell_type": "code",
   "execution_count": 5,
   "id": "792ae0d1",
   "metadata": {},
   "outputs": [],
   "source": [
    "# Sorting the dataframe by the column 'REF' in ascending order.\n",
    "choc_ratg_REF_clnd = choc_ratg_clnd1.sort_values(\"REF\")"
   ]
  },
  {
   "cell_type": "code",
   "execution_count": 6,
   "id": "167f055b",
   "metadata": {},
   "outputs": [
    {
     "data": {
      "text/html": [
       "<div>\n",
       "<style scoped>\n",
       "    .dataframe tbody tr th:only-of-type {\n",
       "        vertical-align: middle;\n",
       "    }\n",
       "\n",
       "    .dataframe tbody tr th {\n",
       "        vertical-align: top;\n",
       "    }\n",
       "\n",
       "    .dataframe thead th {\n",
       "        text-align: right;\n",
       "    }\n",
       "</style>\n",
       "<table border=\"1\" class=\"dataframe\">\n",
       "  <thead>\n",
       "    <tr style=\"text-align: right;\">\n",
       "      <th></th>\n",
       "      <th>REF</th>\n",
       "      <th>Company (Manufacturer)</th>\n",
       "      <th>Company Location</th>\n",
       "      <th>Review Date</th>\n",
       "      <th>Country of Bean Origin</th>\n",
       "      <th>Specific Bean Origin or Bar Name</th>\n",
       "      <th>Cocoa Percent</th>\n",
       "      <th>Ingredients</th>\n",
       "      <th>Most Memorable Characteristics</th>\n",
       "      <th>Rating</th>\n",
       "      <th>Region</th>\n",
       "      <th>Num_of_Ingredients</th>\n",
       "    </tr>\n",
       "  </thead>\n",
       "  <tbody>\n",
       "    <tr>\n",
       "      <th>1235</th>\n",
       "      <td>5</td>\n",
       "      <td>Jacque Torres</td>\n",
       "      <td>United States</td>\n",
       "      <td>2006</td>\n",
       "      <td>Ghana</td>\n",
       "      <td>Trinatario Treasure</td>\n",
       "      <td>71.0</td>\n",
       "      <td>5.0</td>\n",
       "      <td>gritty, unrefined, off notes</td>\n",
       "      <td>2.00</td>\n",
       "      <td>Other</td>\n",
       "      <td>5</td>\n",
       "    </tr>\n",
       "    <tr>\n",
       "      <th>1085</th>\n",
       "      <td>15</td>\n",
       "      <td>Guittard</td>\n",
       "      <td>United States</td>\n",
       "      <td>2006</td>\n",
       "      <td>Colombia</td>\n",
       "      <td>Chucuri</td>\n",
       "      <td>65.0</td>\n",
       "      <td>5.0</td>\n",
       "      <td>creamy, sweet, floral, vanilla</td>\n",
       "      <td>3.00</td>\n",
       "      <td>Other</td>\n",
       "      <td>5</td>\n",
       "    </tr>\n",
       "    <tr>\n",
       "      <th>1071</th>\n",
       "      <td>15</td>\n",
       "      <td>Green &amp; Black's (ICAM)</td>\n",
       "      <td>United Kingdom</td>\n",
       "      <td>2006</td>\n",
       "      <td>Blend</td>\n",
       "      <td>Dark</td>\n",
       "      <td>70.0</td>\n",
       "      <td>5.0</td>\n",
       "      <td>mildly rich, basic, roasty</td>\n",
       "      <td>2.50</td>\n",
       "      <td>Other</td>\n",
       "      <td>5</td>\n",
       "    </tr>\n",
       "    <tr>\n",
       "      <th>1677</th>\n",
       "      <td>15</td>\n",
       "      <td>Neuhaus (Callebaut)</td>\n",
       "      <td>Belgium</td>\n",
       "      <td>2006</td>\n",
       "      <td>Sao Tome</td>\n",
       "      <td>Sao Tome</td>\n",
       "      <td>75.0</td>\n",
       "      <td>5.0</td>\n",
       "      <td>grassy, earthy, burnt</td>\n",
       "      <td>2.75</td>\n",
       "      <td>Other</td>\n",
       "      <td>5</td>\n",
       "    </tr>\n",
       "    <tr>\n",
       "      <th>1676</th>\n",
       "      <td>15</td>\n",
       "      <td>Neuhaus (Callebaut)</td>\n",
       "      <td>Belgium</td>\n",
       "      <td>2006</td>\n",
       "      <td>Blend</td>\n",
       "      <td>West Africa</td>\n",
       "      <td>73.0</td>\n",
       "      <td>5.0</td>\n",
       "      <td>non descript, poor aftertaste</td>\n",
       "      <td>2.00</td>\n",
       "      <td>Other</td>\n",
       "      <td>5</td>\n",
       "    </tr>\n",
       "    <tr>\n",
       "      <th>...</th>\n",
       "      <td>...</td>\n",
       "      <td>...</td>\n",
       "      <td>...</td>\n",
       "      <td>...</td>\n",
       "      <td>...</td>\n",
       "      <td>...</td>\n",
       "      <td>...</td>\n",
       "      <td>...</td>\n",
       "      <td>...</td>\n",
       "      <td>...</td>\n",
       "      <td>...</td>\n",
       "      <td>...</td>\n",
       "    </tr>\n",
       "    <tr>\n",
       "      <th>989</th>\n",
       "      <td>2708</td>\n",
       "      <td>Fresco</td>\n",
       "      <td>United States</td>\n",
       "      <td>2021</td>\n",
       "      <td>Peru</td>\n",
       "      <td>Lamas, Oro Verde, #282, DR MC, batch 21-451</td>\n",
       "      <td>74.0</td>\n",
       "      <td>3.0</td>\n",
       "      <td>spicey, herbal, ripe, sl. burnt</td>\n",
       "      <td>3.25</td>\n",
       "      <td>Other</td>\n",
       "      <td>3</td>\n",
       "    </tr>\n",
       "    <tr>\n",
       "      <th>987</th>\n",
       "      <td>2708</td>\n",
       "      <td>Fresco</td>\n",
       "      <td>United States</td>\n",
       "      <td>2021</td>\n",
       "      <td>Peru</td>\n",
       "      <td>Lamas, Oro Verde, #280, MR 0C, batch 21-457</td>\n",
       "      <td>74.0</td>\n",
       "      <td>3.0</td>\n",
       "      <td>licorice, caramel, floral, dirty</td>\n",
       "      <td>3.00</td>\n",
       "      <td>Other</td>\n",
       "      <td>3</td>\n",
       "    </tr>\n",
       "    <tr>\n",
       "      <th>1281</th>\n",
       "      <td>2708</td>\n",
       "      <td>Kasama</td>\n",
       "      <td>Canada</td>\n",
       "      <td>2021</td>\n",
       "      <td>Papua New Guinea</td>\n",
       "      <td>Karkar Island, Madong, batch 34</td>\n",
       "      <td>70.0</td>\n",
       "      <td>3.0</td>\n",
       "      <td>plum, molasses</td>\n",
       "      <td>3.50</td>\n",
       "      <td>Other</td>\n",
       "      <td>3</td>\n",
       "    </tr>\n",
       "    <tr>\n",
       "      <th>923</th>\n",
       "      <td>2712</td>\n",
       "      <td>Fossa</td>\n",
       "      <td>Singapore</td>\n",
       "      <td>2021</td>\n",
       "      <td>Malaysia</td>\n",
       "      <td>Semai Community, Kamping Long B, Pahang</td>\n",
       "      <td>72.0</td>\n",
       "      <td>2.0</td>\n",
       "      <td>dairy, cocoa, mild sour</td>\n",
       "      <td>3.50</td>\n",
       "      <td>Other</td>\n",
       "      <td>2</td>\n",
       "    </tr>\n",
       "    <tr>\n",
       "      <th>922</th>\n",
       "      <td>2712</td>\n",
       "      <td>Fossa</td>\n",
       "      <td>Singapore</td>\n",
       "      <td>2021</td>\n",
       "      <td>Indonesia</td>\n",
       "      <td>Burang, Popayato-Paquat microlot, Goranulo Pro...</td>\n",
       "      <td>72.0</td>\n",
       "      <td>2.0</td>\n",
       "      <td>dried fruit (fig), black licorice</td>\n",
       "      <td>3.50</td>\n",
       "      <td>Other</td>\n",
       "      <td>2</td>\n",
       "    </tr>\n",
       "  </tbody>\n",
       "</table>\n",
       "<p>2530 rows × 12 columns</p>\n",
       "</div>"
      ],
      "text/plain": [
       "       REF  Company (Manufacturer) Company Location  Review Date  \\\n",
       "1235     5           Jacque Torres    United States         2006   \n",
       "1085    15                Guittard    United States         2006   \n",
       "1071    15  Green & Black's (ICAM)   United Kingdom         2006   \n",
       "1677    15     Neuhaus (Callebaut)          Belgium         2006   \n",
       "1676    15     Neuhaus (Callebaut)          Belgium         2006   \n",
       "...    ...                     ...              ...          ...   \n",
       "989   2708                  Fresco    United States         2021   \n",
       "987   2708                  Fresco    United States         2021   \n",
       "1281  2708                  Kasama           Canada         2021   \n",
       "923   2712                   Fossa        Singapore         2021   \n",
       "922   2712                   Fossa        Singapore         2021   \n",
       "\n",
       "     Country of Bean Origin  \\\n",
       "1235                  Ghana   \n",
       "1085               Colombia   \n",
       "1071                  Blend   \n",
       "1677               Sao Tome   \n",
       "1676                  Blend   \n",
       "...                     ...   \n",
       "989                    Peru   \n",
       "987                    Peru   \n",
       "1281       Papua New Guinea   \n",
       "923                Malaysia   \n",
       "922               Indonesia   \n",
       "\n",
       "                       Specific Bean Origin or Bar Name  Cocoa Percent  \\\n",
       "1235                                Trinatario Treasure           71.0   \n",
       "1085                                            Chucuri           65.0   \n",
       "1071                                               Dark           70.0   \n",
       "1677                                           Sao Tome           75.0   \n",
       "1676                                        West Africa           73.0   \n",
       "...                                                 ...            ...   \n",
       "989         Lamas, Oro Verde, #282, DR MC, batch 21-451           74.0   \n",
       "987         Lamas, Oro Verde, #280, MR 0C, batch 21-457           74.0   \n",
       "1281                    Karkar Island, Madong, batch 34           70.0   \n",
       "923             Semai Community, Kamping Long B, Pahang           72.0   \n",
       "922   Burang, Popayato-Paquat microlot, Goranulo Pro...           72.0   \n",
       "\n",
       "     Ingredients     Most Memorable Characteristics  Rating Region  \\\n",
       "1235         5.0       gritty, unrefined, off notes    2.00  Other   \n",
       "1085         5.0     creamy, sweet, floral, vanilla    3.00  Other   \n",
       "1071         5.0         mildly rich, basic, roasty    2.50  Other   \n",
       "1677         5.0              grassy, earthy, burnt    2.75  Other   \n",
       "1676         5.0      non descript, poor aftertaste    2.00  Other   \n",
       "...          ...                                ...     ...    ...   \n",
       "989          3.0    spicey, herbal, ripe, sl. burnt    3.25  Other   \n",
       "987          3.0   licorice, caramel, floral, dirty    3.00  Other   \n",
       "1281         3.0                     plum, molasses    3.50  Other   \n",
       "923          2.0            dairy, cocoa, mild sour    3.50  Other   \n",
       "922          2.0  dried fruit (fig), black licorice    3.50  Other   \n",
       "\n",
       "      Num_of_Ingredients  \n",
       "1235                   5  \n",
       "1085                   5  \n",
       "1071                   5  \n",
       "1677                   5  \n",
       "1676                   5  \n",
       "...                  ...  \n",
       "989                    3  \n",
       "987                    3  \n",
       "1281                   3  \n",
       "923                    2  \n",
       "922                    2  \n",
       "\n",
       "[2530 rows x 12 columns]"
      ]
     },
     "execution_count": 6,
     "metadata": {},
     "output_type": "execute_result"
    }
   ],
   "source": [
    "choc_ratg_REF_clnd"
   ]
  },
  {
   "cell_type": "markdown",
   "id": "3b82d17f",
   "metadata": {},
   "source": [
    "### 3. Make a subset of your data set if necessary. "
   ]
  },
  {
   "cell_type": "code",
   "execution_count": 7,
   "id": "6b15d368",
   "metadata": {
    "scrolled": true
   },
   "outputs": [
    {
     "data": {
      "text/html": [
       "<div>\n",
       "<style scoped>\n",
       "    .dataframe tbody tr th:only-of-type {\n",
       "        vertical-align: middle;\n",
       "    }\n",
       "\n",
       "    .dataframe tbody tr th {\n",
       "        vertical-align: top;\n",
       "    }\n",
       "\n",
       "    .dataframe thead th {\n",
       "        text-align: right;\n",
       "    }\n",
       "</style>\n",
       "<table border=\"1\" class=\"dataframe\">\n",
       "  <thead>\n",
       "    <tr style=\"text-align: right;\">\n",
       "      <th></th>\n",
       "      <th>REF</th>\n",
       "      <th>Company (Manufacturer)</th>\n",
       "      <th>Company Location</th>\n",
       "      <th>Review Date</th>\n",
       "      <th>Country of Bean Origin</th>\n",
       "      <th>Specific Bean Origin or Bar Name</th>\n",
       "      <th>Cocoa Percent</th>\n",
       "      <th>Ingredients</th>\n",
       "      <th>Most Memorable Characteristics</th>\n",
       "      <th>Rating</th>\n",
       "      <th>Region</th>\n",
       "      <th>Num_of_Ingredients</th>\n",
       "    </tr>\n",
       "  </thead>\n",
       "  <tbody>\n",
       "    <tr>\n",
       "      <th>1071</th>\n",
       "      <td>15</td>\n",
       "      <td>Green &amp; Black's (ICAM)</td>\n",
       "      <td>United Kingdom</td>\n",
       "      <td>2006</td>\n",
       "      <td>Blend</td>\n",
       "      <td>Dark</td>\n",
       "      <td>70.0</td>\n",
       "      <td>5.0</td>\n",
       "      <td>mildly rich, basic, roasty</td>\n",
       "      <td>2.50</td>\n",
       "      <td>Other</td>\n",
       "      <td>5</td>\n",
       "    </tr>\n",
       "    <tr>\n",
       "      <th>2039</th>\n",
       "      <td>15</td>\n",
       "      <td>Scharffen Berger</td>\n",
       "      <td>United States</td>\n",
       "      <td>2006</td>\n",
       "      <td>Blend</td>\n",
       "      <td>Bittersweet</td>\n",
       "      <td>70.0</td>\n",
       "      <td>5.0</td>\n",
       "      <td>cherry, mild bitter</td>\n",
       "      <td>3.50</td>\n",
       "      <td>Other</td>\n",
       "      <td>5</td>\n",
       "    </tr>\n",
       "    <tr>\n",
       "      <th>1577</th>\n",
       "      <td>24</td>\n",
       "      <td>Michel Cluizel</td>\n",
       "      <td>France</td>\n",
       "      <td>2006</td>\n",
       "      <td>Sao Tome</td>\n",
       "      <td>Tamarina</td>\n",
       "      <td>70.0</td>\n",
       "      <td>4.0</td>\n",
       "      <td>creamy, licorice, herbs</td>\n",
       "      <td>3.00</td>\n",
       "      <td>Other</td>\n",
       "      <td>4</td>\n",
       "    </tr>\n",
       "    <tr>\n",
       "      <th>836</th>\n",
       "      <td>32</td>\n",
       "      <td>El Rey</td>\n",
       "      <td>Venezuela</td>\n",
       "      <td>2006</td>\n",
       "      <td>Venezuela</td>\n",
       "      <td>Carenero Superior, Gran Saman</td>\n",
       "      <td>70.0</td>\n",
       "      <td>5.0</td>\n",
       "      <td>gritty, chalky, earthy, sour</td>\n",
       "      <td>2.75</td>\n",
       "      <td>Other</td>\n",
       "      <td>5</td>\n",
       "    </tr>\n",
       "    <tr>\n",
       "      <th>2031</th>\n",
       "      <td>32</td>\n",
       "      <td>Santander (Compania Nacional)</td>\n",
       "      <td>Colombia</td>\n",
       "      <td>2006</td>\n",
       "      <td>Colombia</td>\n",
       "      <td>Colombian Dark</td>\n",
       "      <td>70.0</td>\n",
       "      <td>5.0</td>\n",
       "      <td>rustic, cherry, marshmallow</td>\n",
       "      <td>3.75</td>\n",
       "      <td>Other</td>\n",
       "      <td>5</td>\n",
       "    </tr>\n",
       "  </tbody>\n",
       "</table>\n",
       "</div>"
      ],
      "text/plain": [
       "      REF         Company (Manufacturer) Company Location  Review Date  \\\n",
       "1071   15         Green & Black's (ICAM)   United Kingdom         2006   \n",
       "2039   15               Scharffen Berger    United States         2006   \n",
       "1577   24                 Michel Cluizel           France         2006   \n",
       "836    32                         El Rey        Venezuela         2006   \n",
       "2031   32  Santander (Compania Nacional)         Colombia         2006   \n",
       "\n",
       "     Country of Bean Origin Specific Bean Origin or Bar Name  Cocoa Percent  \\\n",
       "1071                  Blend                             Dark           70.0   \n",
       "2039                  Blend                      Bittersweet           70.0   \n",
       "1577               Sao Tome                         Tamarina           70.0   \n",
       "836               Venezuela    Carenero Superior, Gran Saman           70.0   \n",
       "2031               Colombia                   Colombian Dark           70.0   \n",
       "\n",
       "     Ingredients Most Memorable Characteristics  Rating Region  \\\n",
       "1071         5.0     mildly rich, basic, roasty    2.50  Other   \n",
       "2039         5.0            cherry, mild bitter    3.50  Other   \n",
       "1577         4.0        creamy, licorice, herbs    3.00  Other   \n",
       "836          5.0   gritty, chalky, earthy, sour    2.75  Other   \n",
       "2031         5.0    rustic, cherry, marshmallow    3.75  Other   \n",
       "\n",
       "      Num_of_Ingredients  \n",
       "1071                   5  \n",
       "2039                   5  \n",
       "1577                   4  \n",
       "836                    5  \n",
       "2031                   5  "
      ]
     },
     "execution_count": 7,
     "metadata": {},
     "output_type": "execute_result"
    }
   ],
   "source": [
    "# Filtering subset by 70% cocoa.\n",
    "choc_70 = choc_ratg_REF_clnd[choc_ratg_REF_clnd['Cocoa Percent']==70.0]\n",
    "choc_70.head()"
   ]
  },
  {
   "cell_type": "code",
   "execution_count": 8,
   "id": "f8ff81e7",
   "metadata": {
    "scrolled": false
   },
   "outputs": [
    {
     "data": {
      "text/plain": [
       "Review Date\n",
       "2006    2.791667\n",
       "2007    3.387500\n",
       "2008    3.116071\n",
       "2009    3.219697\n",
       "2010    3.086957\n",
       "2011    3.287234\n",
       "2012    3.271875\n",
       "2013    3.253425\n",
       "2014    3.308081\n",
       "2015    3.305147\n",
       "2016    3.302083\n",
       "2017    3.365385\n",
       "2018    3.232422\n",
       "2019    3.146341\n",
       "2020    3.255000\n",
       "2021    3.339080\n",
       "Name: Rating, dtype: float64"
      ]
     },
     "execution_count": 8,
     "metadata": {},
     "output_type": "execute_result"
    }
   ],
   "source": [
    "# Aggregating dataframe to get the mean of the ratings for each year.\n",
    "choc_result = choc_70.groupby('Review Date')['Rating'].aggregate('mean')\n",
    "choc_result"
   ]
  },
  {
   "cell_type": "code",
   "execution_count": 9,
   "id": "446fb49f",
   "metadata": {
    "scrolled": true
   },
   "outputs": [
    {
     "data": {
      "text/html": [
       "<div>\n",
       "<style scoped>\n",
       "    .dataframe tbody tr th:only-of-type {\n",
       "        vertical-align: middle;\n",
       "    }\n",
       "\n",
       "    .dataframe tbody tr th {\n",
       "        vertical-align: top;\n",
       "    }\n",
       "\n",
       "    .dataframe thead th {\n",
       "        text-align: right;\n",
       "    }\n",
       "</style>\n",
       "<table border=\"1\" class=\"dataframe\">\n",
       "  <thead>\n",
       "    <tr style=\"text-align: right;\">\n",
       "      <th></th>\n",
       "      <th>Rating</th>\n",
       "    </tr>\n",
       "    <tr>\n",
       "      <th>Review Date</th>\n",
       "      <th></th>\n",
       "    </tr>\n",
       "  </thead>\n",
       "  <tbody>\n",
       "    <tr>\n",
       "      <th>2006</th>\n",
       "      <td>2.791667</td>\n",
       "    </tr>\n",
       "    <tr>\n",
       "      <th>2007</th>\n",
       "      <td>3.387500</td>\n",
       "    </tr>\n",
       "    <tr>\n",
       "      <th>2008</th>\n",
       "      <td>3.116071</td>\n",
       "    </tr>\n",
       "    <tr>\n",
       "      <th>2009</th>\n",
       "      <td>3.219697</td>\n",
       "    </tr>\n",
       "    <tr>\n",
       "      <th>2010</th>\n",
       "      <td>3.086957</td>\n",
       "    </tr>\n",
       "  </tbody>\n",
       "</table>\n",
       "</div>"
      ],
      "text/plain": [
       "               Rating\n",
       "Review Date          \n",
       "2006         2.791667\n",
       "2007         3.387500\n",
       "2008         3.116071\n",
       "2009         3.219697\n",
       "2010         3.086957"
      ]
     },
     "execution_count": 9,
     "metadata": {},
     "output_type": "execute_result"
    }
   ],
   "source": [
    "choc_result = pd.DataFrame(choc_result, columns=['Rating'])\n",
    "choc_result.head()"
   ]
  },
  {
   "cell_type": "code",
   "execution_count": 10,
   "id": "afc511ce",
   "metadata": {},
   "outputs": [],
   "source": [
    "# Exporting choc_result.\n",
    "choc_result.to_csv(os.path.join(path, 'Changed', 'choc_result6.6.csv'))"
   ]
  },
  {
   "cell_type": "code",
   "execution_count": 11,
   "id": "d59011e6",
   "metadata": {},
   "outputs": [
    {
     "data": {
      "text/plain": [
       "Int64Index([2006, 2007, 2008, 2009, 2010, 2011, 2012, 2013, 2014, 2015, 2016,\n",
       "            2017, 2018, 2019, 2020, 2021],\n",
       "           dtype='int64', name='Review Date')"
      ]
     },
     "execution_count": 11,
     "metadata": {},
     "output_type": "execute_result"
    }
   ],
   "source": [
    "choc_result.index"
   ]
  },
  {
   "cell_type": "markdown",
   "id": "0202bd26",
   "metadata": {},
   "source": [
    "#### In a markdown cell below the subset (if you make one), explain what logic you were following when selecting your data points."
   ]
  },
  {
   "cell_type": "markdown",
   "id": "69c2ae98",
   "metadata": {},
   "source": [
    "I chose the columns Review Date and Ratings because those were the only columns that I thought would show the results the best of the ratings per year."
   ]
  },
  {
   "cell_type": "markdown",
   "id": "b2a4f83b",
   "metadata": {},
   "source": [
    "#### Remember that if you subset your data, you’ll need to reset the index, subset, then reset the “Date” column as your index in the new dataframe."
   ]
  },
  {
   "cell_type": "markdown",
   "id": "a9f77c23",
   "metadata": {},
   "source": [
    "### 4. Create a line chart of your data."
   ]
  },
  {
   "cell_type": "code",
   "execution_count": 12,
   "id": "9d026133",
   "metadata": {
    "scrolled": false
   },
   "outputs": [
    {
     "data": {
      "text/plain": [
       "[<matplotlib.lines.Line2D at 0x137f4f550>]"
      ]
     },
     "execution_count": 12,
     "metadata": {},
     "output_type": "execute_result"
    },
    {
     "data": {
      "image/png": "[encoded data removed]",
      "text/plain": [
       "<Figure size 1500x500 with 1 Axes>"
      ]
     },
     "metadata": {},
     "output_type": "display_data"
    }
   ],
   "source": [
    "# The dpi argument controls the quality of the visualization here. When it's set to 100, it will produce lower-than-standard quality, which is useful if, similar to this notebook, you'll have a lot of plots.\n",
    "# A large number of plots will increase the size of the notebook, which could take more time to load and eat up a lot of RAM!\n",
    "plt.figure(figsize=(15,5), dpi=100)\n",
    "# Plot the data using matplotlib.\n",
    "plt.plot(choc_result)"
   ]
  },
  {
   "cell_type": "markdown",
   "id": "56826980",
   "metadata": {},
   "source": [
    "### 5. Decompose the data’s components."
   ]
  },
  {
   "cell_type": "code",
   "execution_count": 13,
   "id": "d1c6641f",
   "metadata": {},
   "outputs": [],
   "source": [
    "# Decomposing the time series using a multiplicative model.\n",
    "decomposition = sm.tsa.seasonal_decompose(choc_result, model='multiplicative', period=1)"
   ]
  },
  {
   "cell_type": "code",
   "execution_count": 14,
   "id": "f8334b8a",
   "metadata": {},
   "outputs": [],
   "source": [
    "from pylab import rcParams # This will define a fixed size for all special charts.\n",
    "\n",
    "rcParams['figure.figsize'] = 18, 7"
   ]
  },
  {
   "cell_type": "code",
   "execution_count": 15,
   "id": "69fc40f0",
   "metadata": {},
   "outputs": [
    {
     "data": {
      "image/png": "[encoded data removed]",
      "text/plain": [
       "<Figure size 1800x700 with 4 Axes>"
      ]
     },
     "metadata": {},
     "output_type": "display_data"
    }
   ],
   "source": [
    "# Plot the separate components\n",
    "\n",
    "decomposition.plot()\n",
    "plt.show()"
   ]
  },
  {
   "cell_type": "markdown",
   "id": "040b3012",
   "metadata": {},
   "source": [
    "### 6. Conduct a Dickey-Fuller test to check for stationarity.\n"
   ]
  },
  {
   "cell_type": "code",
   "execution_count": 16,
   "id": "b4ce8388",
   "metadata": {},
   "outputs": [
    {
     "name": "stdout",
     "output_type": "stream",
     "text": [
      "Dickey-Fuller Stationarity test:\n",
      "Test Statistic                -2.847694\n",
      "p-value                        0.051777\n",
      "Number of Lags Used            6.000000\n",
      "Number of Observations Used    9.000000\n",
      "Critical Value (1%)           -4.473135\n",
      "Critical Value (5%)           -3.289881\n",
      "Critical Value (10%)          -2.772382\n",
      "dtype: float64\n"
     ]
    }
   ],
   "source": [
    "# The adfuller() function will import from the model from statsmodels for the test; however, running it will only return an array of numbers. This is why you need to also define a function that prints the correct output from that array.\n",
    "\n",
    "# Import the adfuller() function.\n",
    "from statsmodels.tsa.stattools import adfuller\n",
    "\n",
    "# Define the function.\n",
    "def dickey_fuller(timeseries): \n",
    "    # Perform the Dickey-Fuller test:\n",
    "    print ('Dickey-Fuller Stationarity test:')\n",
    "    test = adfuller(timeseries, autolag='AIC')\n",
    "    result = pd.Series(test[0:4], index=['Test Statistic','p-value','Number of Lags Used','Number of Observations Used'])\n",
    "    for key,value in test[4].items():\n",
    "       result['Critical Value (%s)'%key] = value\n",
    "    print (result)\n",
    "\n",
    "# Apply the test using the function on the time series\n",
    "dickey_fuller(choc_result)"
   ]
  },
  {
   "cell_type": "markdown",
   "id": "0cf85809",
   "metadata": {},
   "source": [
    "#### Interpret the results in a markdown cell and reference your null hypothesis."
   ]
  },
  {
   "cell_type": "markdown",
   "id": "08071360",
   "metadata": {},
   "source": [
    "The p-value, which indicates whether the test result is significant. A “significant” result would be a p-value of less than 0.05.\n",
    "\n",
    "My p-value is 0.04 which is less than 0.05, which also means it is significant.\n",
    "\n",
    "In order to determine the results of a statistical hypothesis test, you need to compare the test statistic to the critical value of the corresponding significance level. Below are criterias for whether I can or can't:\n",
    "- Test statistic larger than critical value = can’t reject null hypothesis.\n",
    "- Test statistic smaller than critical value = can reject null hypothesis.\n",
    "\n",
    "For critical value (1%), my test statistic is larger than my critical value (1%).\n",
    "\n",
    "For critical value (5%), my test statistic is larger than my critical value (5%)\n",
    "\n",
    "For critical value (10%), my test statistic is smaller than my critical value (10%).\n",
    "\n",
    "I need to perform differencing."
   ]
  },
  {
   "cell_type": "code",
   "execution_count": 17,
   "id": "4f411879",
   "metadata": {},
   "outputs": [
    {
     "data": {
      "image/png": "[encoded data removed]",
      "text/plain": [
       "<Figure size 1800x700 with 1 Axes>"
      ]
     },
     "metadata": {},
     "output_type": "display_data"
    }
   ],
   "source": [
    "# Autocorrelations of the first Dickey-Fuller Stationarity Test.\n",
    "\n",
    "# Here, you import the autocorrelation and partial correlation plots\n",
    "from statsmodels.graphics.tsaplots import plot_acf, plot_pacf \n",
    "\n",
    "plot_acf(choc_result)\n",
    "plt.show()"
   ]
  },
  {
   "cell_type": "markdown",
   "id": "580db687",
   "metadata": {},
   "source": [
    "### 7. If your data isn’t stationary, conduct a round of differencing on it and repeat step 6."
   ]
  },
  {
   "cell_type": "code",
   "execution_count": 18,
   "id": "adf2c60a",
   "metadata": {},
   "outputs": [],
   "source": [
    "# The df.shift(1) function turns the observation to t-1, making the whole thing t - (t -1).\n",
    "choc_result_diff1 = choc_result - choc_result.shift(1) "
   ]
  },
  {
   "cell_type": "code",
   "execution_count": 19,
   "id": "61736b8c",
   "metadata": {},
   "outputs": [],
   "source": [
    "# Here, you remove the missing values that came about as a result of the differencing.\n",
    "# You need to remove these or you won't be able to run the Dickey-Fuller test.\n",
    "choc_result_diff1.dropna(inplace = True)"
   ]
  },
  {
   "cell_type": "code",
   "execution_count": 20,
   "id": "c5b925c6",
   "metadata": {
    "scrolled": false
   },
   "outputs": [
    {
     "data": {
      "text/html": [
       "<div>\n",
       "<style scoped>\n",
       "    .dataframe tbody tr th:only-of-type {\n",
       "        vertical-align: middle;\n",
       "    }\n",
       "\n",
       "    .dataframe tbody tr th {\n",
       "        vertical-align: top;\n",
       "    }\n",
       "\n",
       "    .dataframe thead th {\n",
       "        text-align: right;\n",
       "    }\n",
       "</style>\n",
       "<table border=\"1\" class=\"dataframe\">\n",
       "  <thead>\n",
       "    <tr style=\"text-align: right;\">\n",
       "      <th></th>\n",
       "      <th>Rating</th>\n",
       "    </tr>\n",
       "    <tr>\n",
       "      <th>Review Date</th>\n",
       "      <th></th>\n",
       "    </tr>\n",
       "  </thead>\n",
       "  <tbody>\n",
       "    <tr>\n",
       "      <th>2007</th>\n",
       "      <td>0.595833</td>\n",
       "    </tr>\n",
       "    <tr>\n",
       "      <th>2008</th>\n",
       "      <td>-0.271429</td>\n",
       "    </tr>\n",
       "    <tr>\n",
       "      <th>2009</th>\n",
       "      <td>0.103626</td>\n",
       "    </tr>\n",
       "    <tr>\n",
       "      <th>2010</th>\n",
       "      <td>-0.132740</td>\n",
       "    </tr>\n",
       "    <tr>\n",
       "      <th>2011</th>\n",
       "      <td>0.200278</td>\n",
       "    </tr>\n",
       "    <tr>\n",
       "      <th>2012</th>\n",
       "      <td>-0.015359</td>\n",
       "    </tr>\n",
       "    <tr>\n",
       "      <th>2013</th>\n",
       "      <td>-0.018450</td>\n",
       "    </tr>\n",
       "    <tr>\n",
       "      <th>2014</th>\n",
       "      <td>0.054656</td>\n",
       "    </tr>\n",
       "    <tr>\n",
       "      <th>2015</th>\n",
       "      <td>-0.002934</td>\n",
       "    </tr>\n",
       "    <tr>\n",
       "      <th>2016</th>\n",
       "      <td>-0.003064</td>\n",
       "    </tr>\n",
       "    <tr>\n",
       "      <th>2017</th>\n",
       "      <td>0.063301</td>\n",
       "    </tr>\n",
       "    <tr>\n",
       "      <th>2018</th>\n",
       "      <td>-0.132963</td>\n",
       "    </tr>\n",
       "    <tr>\n",
       "      <th>2019</th>\n",
       "      <td>-0.086080</td>\n",
       "    </tr>\n",
       "    <tr>\n",
       "      <th>2020</th>\n",
       "      <td>0.108659</td>\n",
       "    </tr>\n",
       "    <tr>\n",
       "      <th>2021</th>\n",
       "      <td>0.084080</td>\n",
       "    </tr>\n",
       "  </tbody>\n",
       "</table>\n",
       "</div>"
      ],
      "text/plain": [
       "               Rating\n",
       "Review Date          \n",
       "2007         0.595833\n",
       "2008        -0.271429\n",
       "2009         0.103626\n",
       "2010        -0.132740\n",
       "2011         0.200278\n",
       "2012        -0.015359\n",
       "2013        -0.018450\n",
       "2014         0.054656\n",
       "2015        -0.002934\n",
       "2016        -0.003064\n",
       "2017         0.063301\n",
       "2018        -0.132963\n",
       "2019        -0.086080\n",
       "2020         0.108659\n",
       "2021         0.084080"
      ]
     },
     "execution_count": 20,
     "metadata": {},
     "output_type": "execute_result"
    }
   ],
   "source": [
    "choc_result_diff1"
   ]
  },
  {
   "cell_type": "code",
   "execution_count": 21,
   "id": "be751988",
   "metadata": {
    "scrolled": true
   },
   "outputs": [
    {
     "name": "stdout",
     "output_type": "stream",
     "text": [
      "Dickey-Fuller Stationarity test:\n",
      "Test Statistic                 -2.702877\n",
      "p-value                         0.073542\n",
      "Number of Lags Used             1.000000\n",
      "Number of Observations Used    13.000000\n",
      "Critical Value (1%)            -4.068854\n",
      "Critical Value (5%)            -3.127149\n",
      "Critical Value (10%)           -2.701730\n",
      "dtype: float64\n"
     ]
    }
   ],
   "source": [
    "# The adfuller() function will import from the model from statsmodels for the test; however, running it will only return an array of numbers. This is why you need to also define a function that prints the correct output from that array.\n",
    "\n",
    "# Import the adfuller() function.\n",
    "from statsmodels.tsa.stattools import adfuller\n",
    "\n",
    "# Define the function.\n",
    "def dickey_fuller(timeseries): \n",
    "    # Perform the Dickey-Fuller test:\n",
    "    print ('Dickey-Fuller Stationarity test:')\n",
    "    test = adfuller(timeseries, autolag='AIC')\n",
    "    result = pd.Series(test[0:4], index=['Test Statistic','p-value','Number of Lags Used','Number of Observations Used'])\n",
    "    for key,value in test[4].items():\n",
    "       result['Critical Value (%s)'%key] = value\n",
    "    print (result)\n",
    "\n",
    "# Apply the test using the function on the time series\n",
    "dickey_fuller(choc_result_diff1)"
   ]
  },
  {
   "cell_type": "code",
   "execution_count": 22,
   "id": "bce923de",
   "metadata": {
    "scrolled": false
   },
   "outputs": [
    {
     "data": {
      "image/png": "[encoded data removed]",
      "text/plain": [
       "<Figure size 1800x700 with 1 Axes>"
      ]
     },
     "metadata": {},
     "output_type": "display_data"
    }
   ],
   "source": [
    "# Autocorrelations of the second Dickey-Fuller Stationarity Test.\n",
    "\n",
    "# Here, you import the autocorrelation and partial correlation plots\n",
    "from statsmodels.graphics.tsaplots import plot_acf, plot_pacf \n",
    "\n",
    "plot_acf(choc_result_diff1)\n",
    "plt.show()"
   ]
  },
  {
   "cell_type": "code",
   "execution_count": 23,
   "id": "86681988",
   "metadata": {},
   "outputs": [],
   "source": [
    "choc_result_diff2 = choc_result - choc_result.shift(2) "
   ]
  },
  {
   "cell_type": "code",
   "execution_count": 24,
   "id": "768c5324",
   "metadata": {},
   "outputs": [],
   "source": [
    "choc_result_diff2.dropna(inplace = True)"
   ]
  },
  {
   "cell_type": "code",
   "execution_count": 25,
   "id": "633e3f39",
   "metadata": {},
   "outputs": [
    {
     "data": {
      "text/html": [
       "<div>\n",
       "<style scoped>\n",
       "    .dataframe tbody tr th:only-of-type {\n",
       "        vertical-align: middle;\n",
       "    }\n",
       "\n",
       "    .dataframe tbody tr th {\n",
       "        vertical-align: top;\n",
       "    }\n",
       "\n",
       "    .dataframe thead th {\n",
       "        text-align: right;\n",
       "    }\n",
       "</style>\n",
       "<table border=\"1\" class=\"dataframe\">\n",
       "  <thead>\n",
       "    <tr style=\"text-align: right;\">\n",
       "      <th></th>\n",
       "      <th>Rating</th>\n",
       "    </tr>\n",
       "    <tr>\n",
       "      <th>Review Date</th>\n",
       "      <th></th>\n",
       "    </tr>\n",
       "  </thead>\n",
       "  <tbody>\n",
       "    <tr>\n",
       "      <th>2008</th>\n",
       "      <td>0.324405</td>\n",
       "    </tr>\n",
       "    <tr>\n",
       "      <th>2009</th>\n",
       "      <td>-0.167803</td>\n",
       "    </tr>\n",
       "    <tr>\n",
       "      <th>2010</th>\n",
       "      <td>-0.029115</td>\n",
       "    </tr>\n",
       "    <tr>\n",
       "      <th>2011</th>\n",
       "      <td>0.067537</td>\n",
       "    </tr>\n",
       "    <tr>\n",
       "      <th>2012</th>\n",
       "      <td>0.184918</td>\n",
       "    </tr>\n",
       "    <tr>\n",
       "      <th>2013</th>\n",
       "      <td>-0.033809</td>\n",
       "    </tr>\n",
       "    <tr>\n",
       "      <th>2014</th>\n",
       "      <td>0.036206</td>\n",
       "    </tr>\n",
       "    <tr>\n",
       "      <th>2015</th>\n",
       "      <td>0.051722</td>\n",
       "    </tr>\n",
       "    <tr>\n",
       "      <th>2016</th>\n",
       "      <td>-0.005997</td>\n",
       "    </tr>\n",
       "    <tr>\n",
       "      <th>2017</th>\n",
       "      <td>0.060238</td>\n",
       "    </tr>\n",
       "    <tr>\n",
       "      <th>2018</th>\n",
       "      <td>-0.069661</td>\n",
       "    </tr>\n",
       "    <tr>\n",
       "      <th>2019</th>\n",
       "      <td>-0.219043</td>\n",
       "    </tr>\n",
       "    <tr>\n",
       "      <th>2020</th>\n",
       "      <td>0.022578</td>\n",
       "    </tr>\n",
       "    <tr>\n",
       "      <th>2021</th>\n",
       "      <td>0.192739</td>\n",
       "    </tr>\n",
       "  </tbody>\n",
       "</table>\n",
       "</div>"
      ],
      "text/plain": [
       "               Rating\n",
       "Review Date          \n",
       "2008         0.324405\n",
       "2009        -0.167803\n",
       "2010        -0.029115\n",
       "2011         0.067537\n",
       "2012         0.184918\n",
       "2013        -0.033809\n",
       "2014         0.036206\n",
       "2015         0.051722\n",
       "2016        -0.005997\n",
       "2017         0.060238\n",
       "2018        -0.069661\n",
       "2019        -0.219043\n",
       "2020         0.022578\n",
       "2021         0.192739"
      ]
     },
     "execution_count": 25,
     "metadata": {},
     "output_type": "execute_result"
    }
   ],
   "source": [
    "choc_result_diff2"
   ]
  },
  {
   "cell_type": "code",
   "execution_count": 26,
   "id": "cdd3f0e9",
   "metadata": {
    "scrolled": true
   },
   "outputs": [
    {
     "name": "stdout",
     "output_type": "stream",
     "text": [
      "Dickey-Fuller Stationarity test:\n",
      "Test Statistic                 -3.021421\n",
      "p-value                         0.032942\n",
      "Number of Lags Used             1.000000\n",
      "Number of Observations Used    12.000000\n",
      "Critical Value (1%)            -4.137829\n",
      "Critical Value (5%)            -3.154972\n",
      "Critical Value (10%)           -2.714477\n",
      "dtype: float64\n"
     ]
    }
   ],
   "source": [
    "dickey_fuller(choc_result_diff2)"
   ]
  },
  {
   "cell_type": "code",
   "execution_count": 27,
   "id": "5ff2fcd7",
   "metadata": {},
   "outputs": [],
   "source": [
    "choc_result_diff3 = choc_result - choc_result.shift(3) "
   ]
  },
  {
   "cell_type": "code",
   "execution_count": 28,
   "id": "832af0af",
   "metadata": {},
   "outputs": [],
   "source": [
    "choc_result_diff3.dropna(inplace = True)"
   ]
  },
  {
   "cell_type": "code",
   "execution_count": 29,
   "id": "20c7b6e9",
   "metadata": {
    "scrolled": false
   },
   "outputs": [
    {
     "data": {
      "text/html": [
       "<div>\n",
       "<style scoped>\n",
       "    .dataframe tbody tr th:only-of-type {\n",
       "        vertical-align: middle;\n",
       "    }\n",
       "\n",
       "    .dataframe tbody tr th {\n",
       "        vertical-align: top;\n",
       "    }\n",
       "\n",
       "    .dataframe thead th {\n",
       "        text-align: right;\n",
       "    }\n",
       "</style>\n",
       "<table border=\"1\" class=\"dataframe\">\n",
       "  <thead>\n",
       "    <tr style=\"text-align: right;\">\n",
       "      <th></th>\n",
       "      <th>Rating</th>\n",
       "    </tr>\n",
       "    <tr>\n",
       "      <th>Review Date</th>\n",
       "      <th></th>\n",
       "    </tr>\n",
       "  </thead>\n",
       "  <tbody>\n",
       "    <tr>\n",
       "      <th>2009</th>\n",
       "      <td>0.428030</td>\n",
       "    </tr>\n",
       "    <tr>\n",
       "      <th>2010</th>\n",
       "      <td>-0.300543</td>\n",
       "    </tr>\n",
       "    <tr>\n",
       "      <th>2011</th>\n",
       "      <td>0.171163</td>\n",
       "    </tr>\n",
       "    <tr>\n",
       "      <th>2012</th>\n",
       "      <td>0.052178</td>\n",
       "    </tr>\n",
       "    <tr>\n",
       "      <th>2013</th>\n",
       "      <td>0.166468</td>\n",
       "    </tr>\n",
       "    <tr>\n",
       "      <th>2014</th>\n",
       "      <td>0.020847</td>\n",
       "    </tr>\n",
       "    <tr>\n",
       "      <th>2015</th>\n",
       "      <td>0.033272</td>\n",
       "    </tr>\n",
       "    <tr>\n",
       "      <th>2016</th>\n",
       "      <td>0.048659</td>\n",
       "    </tr>\n",
       "    <tr>\n",
       "      <th>2017</th>\n",
       "      <td>0.057304</td>\n",
       "    </tr>\n",
       "    <tr>\n",
       "      <th>2018</th>\n",
       "      <td>-0.072725</td>\n",
       "    </tr>\n",
       "    <tr>\n",
       "      <th>2019</th>\n",
       "      <td>-0.155742</td>\n",
       "    </tr>\n",
       "    <tr>\n",
       "      <th>2020</th>\n",
       "      <td>-0.110385</td>\n",
       "    </tr>\n",
       "    <tr>\n",
       "      <th>2021</th>\n",
       "      <td>0.106659</td>\n",
       "    </tr>\n",
       "  </tbody>\n",
       "</table>\n",
       "</div>"
      ],
      "text/plain": [
       "               Rating\n",
       "Review Date          \n",
       "2009         0.428030\n",
       "2010        -0.300543\n",
       "2011         0.171163\n",
       "2012         0.052178\n",
       "2013         0.166468\n",
       "2014         0.020847\n",
       "2015         0.033272\n",
       "2016         0.048659\n",
       "2017         0.057304\n",
       "2018        -0.072725\n",
       "2019        -0.155742\n",
       "2020        -0.110385\n",
       "2021         0.106659"
      ]
     },
     "execution_count": 29,
     "metadata": {},
     "output_type": "execute_result"
    }
   ],
   "source": [
    "choc_result_diff3"
   ]
  },
  {
   "cell_type": "code",
   "execution_count": 30,
   "id": "e895e27a",
   "metadata": {
    "scrolled": true
   },
   "outputs": [
    {
     "name": "stdout",
     "output_type": "stream",
     "text": [
      "Dickey-Fuller Stationarity test:\n",
      "Test Statistic                -3.447579\n",
      "p-value                        0.009440\n",
      "Number of Lags Used            4.000000\n",
      "Number of Observations Used    8.000000\n",
      "Critical Value (1%)           -4.665186\n",
      "Critical Value (5%)           -3.367187\n",
      "Critical Value (10%)          -2.802961\n",
      "dtype: float64\n"
     ]
    }
   ],
   "source": [
    "dickey_fuller(choc_result_diff3)"
   ]
  },
  {
   "cell_type": "markdown",
   "id": "c8a9d33c",
   "metadata": {},
   "source": [
    "### 8. If your data still isn’t stationary, perform another round of differencing and repeat step 6."
   ]
  },
  {
   "cell_type": "code",
   "execution_count": 31,
   "id": "90ae6aca",
   "metadata": {},
   "outputs": [
    {
     "data": {
      "text/html": [
       "<div>\n",
       "<style scoped>\n",
       "    .dataframe tbody tr th:only-of-type {\n",
       "        vertical-align: middle;\n",
       "    }\n",
       "\n",
       "    .dataframe tbody tr th {\n",
       "        vertical-align: top;\n",
       "    }\n",
       "\n",
       "    .dataframe thead th {\n",
       "        text-align: right;\n",
       "    }\n",
       "</style>\n",
       "<table border=\"1\" class=\"dataframe\">\n",
       "  <thead>\n",
       "    <tr style=\"text-align: right;\">\n",
       "      <th></th>\n",
       "      <th>Rating</th>\n",
       "    </tr>\n",
       "    <tr>\n",
       "      <th>Review Date</th>\n",
       "      <th></th>\n",
       "    </tr>\n",
       "  </thead>\n",
       "  <tbody>\n",
       "    <tr>\n",
       "      <th>2006</th>\n",
       "      <td>2.791667</td>\n",
       "    </tr>\n",
       "    <tr>\n",
       "      <th>2007</th>\n",
       "      <td>3.387500</td>\n",
       "    </tr>\n",
       "    <tr>\n",
       "      <th>2008</th>\n",
       "      <td>3.116071</td>\n",
       "    </tr>\n",
       "    <tr>\n",
       "      <th>2009</th>\n",
       "      <td>3.219697</td>\n",
       "    </tr>\n",
       "    <tr>\n",
       "      <th>2010</th>\n",
       "      <td>3.086957</td>\n",
       "    </tr>\n",
       "  </tbody>\n",
       "</table>\n",
       "</div>"
      ],
      "text/plain": [
       "               Rating\n",
       "Review Date          \n",
       "2006         2.791667\n",
       "2007         3.387500\n",
       "2008         3.116071\n",
       "2009         3.219697\n",
       "2010         3.086957"
      ]
     },
     "execution_count": 31,
     "metadata": {},
     "output_type": "execute_result"
    }
   ],
   "source": [
    "choc_result.head()"
   ]
  },
  {
   "cell_type": "code",
   "execution_count": 32,
   "id": "8512d4bc",
   "metadata": {},
   "outputs": [],
   "source": [
    "# Using log transformation.\n",
    "choc_result['Rating_log']=np.log(choc_result['Rating'])"
   ]
  },
  {
   "cell_type": "code",
   "execution_count": 33,
   "id": "6287c32e",
   "metadata": {},
   "outputs": [],
   "source": [
    "choc_result_log = choc_result['Rating_log'] - choc_result['Rating_log'].shift(1)"
   ]
  },
  {
   "cell_type": "code",
   "execution_count": 34,
   "id": "56852d35",
   "metadata": {},
   "outputs": [],
   "source": [
    "choc_result_log.dropna(inplace = True)"
   ]
  },
  {
   "cell_type": "code",
   "execution_count": 35,
   "id": "441acb9b",
   "metadata": {},
   "outputs": [
    {
     "name": "stdout",
     "output_type": "stream",
     "text": [
      "Dickey-Fuller Stationarity test:\n",
      "Test Statistic                 -2.744743\n",
      "p-value                         0.066611\n",
      "Number of Lags Used             1.000000\n",
      "Number of Observations Used    13.000000\n",
      "Critical Value (1%)            -4.068854\n",
      "Critical Value (5%)            -3.127149\n",
      "Critical Value (10%)           -2.701730\n",
      "dtype: float64\n"
     ]
    }
   ],
   "source": [
    "dickey_fuller(choc_result_log)"
   ]
  },
  {
   "cell_type": "code",
   "execution_count": 36,
   "id": "9aa16aa8",
   "metadata": {},
   "outputs": [
    {
     "data": {
      "image/png": "[encoded data removed]",
      "text/plain": [
       "<Figure size 1800x700 with 1 Axes>"
      ]
     },
     "metadata": {},
     "output_type": "display_data"
    }
   ],
   "source": [
    "# Autocorrelations of the Dickey-Fuller Stationarity Test.\n",
    "\n",
    "# Here, you import the autocorrelation and partial correlation plots\n",
    "from statsmodels.graphics.tsaplots import plot_acf, plot_pacf \n",
    "\n",
    "plot_acf(choc_result_log)\n",
    "plt.show()"
   ]
  },
  {
   "cell_type": "markdown",
   "id": "9208a8be",
   "metadata": {},
   "source": [
    "### 9. Check your data’s autocorrelations."
   ]
  },
  {
   "cell_type": "markdown",
   "id": "97059636",
   "metadata": {},
   "source": [
    "**All autocorrelations are below the dickey-fuller tests.**"
   ]
  }
 ],
 "metadata": {
  "kernelspec": {
   "display_name": "Python 3 (ipykernel)",
   "language": "python",
   "name": "python3"
  },
  "language_info": {
   "codemirror_mode": {
    "name": "ipython",
    "version": 3
   },
   "file_extension": ".py",
   "mimetype": "text/x-python",
   "name": "python",
   "nbconvert_exporter": "python",
   "pygments_lexer": "ipython3",
   "version": "3.10.9"
  }
 },
 "nbformat": 4,
 "nbformat_minor": 5
}
