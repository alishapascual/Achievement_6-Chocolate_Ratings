{
 "cells": [
  {
   "cell_type": "code",
   "execution_count": 1,
   "id": "24710c28",
   "metadata": {},
   "outputs": [],
   "source": [
    "# Importing Libraries\n",
    "import pandas as pd\n",
    "import numpy as np\n",
    "import os\n",
    "import matplotlib.pyplot as plt\n",
    "import matplotlib\n",
    "import seaborn as sns\n",
    "import scipy"
   ]
  },
  {
   "cell_type": "code",
   "execution_count": 2,
   "id": "79277345",
   "metadata": {},
   "outputs": [
    {
     "data": {
      "text/plain": [
       "'3.7.1'"
      ]
     },
     "execution_count": 2,
     "metadata": {},
     "output_type": "execute_result"
    }
   ],
   "source": [
    "# Checking the version of matplotlib.\n",
    "matplotlib.__version__"
   ]
  },
  {
   "cell_type": "code",
   "execution_count": 3,
   "id": "bb3bbce6",
   "metadata": {},
   "outputs": [],
   "source": [
    "# This ensures the charts created are displayed in the notebook without the need to \"call\" them specifically.\n",
    "%matplotlib inline"
   ]
  },
  {
   "cell_type": "code",
   "execution_count": 4,
   "id": "0bf233e5",
   "metadata": {},
   "outputs": [],
   "source": [
    "# making a path.\n",
    "path = r'/Users/terencekeys/Downloads/Shawzz Folder/Data Analytics Immersion Files/Achievement 6 Data Sets/Chocolate Data Sets'"
   ]
  },
  {
   "cell_type": "code",
   "execution_count": 5,
   "id": "0ec90dd4",
   "metadata": {},
   "outputs": [],
   "source": [
    "# Importing chocolate_ratings_cleaned.\n",
    "choc_ratg_clnd = pd.read_csv(os.path.join(path, 'Changed', 'chocolate_ratings_cleaned.csv'), index_col = False)"
   ]
  },
  {
   "cell_type": "markdown",
   "id": "a5afdf6b",
   "metadata": {},
   "source": [
    "# 6.2"
   ]
  },
  {
   "cell_type": "code",
   "execution_count": 6,
   "id": "5dabb616",
   "metadata": {},
   "outputs": [],
   "source": [
    "# Dropping all other non-numeric columns for this exercises task.\n",
    "choc_ratg_clnd2 = choc_ratg_clnd.drop(columns = ['Company (Manufacturer)', 'Company Location', 'Unnamed: 0'])"
   ]
  },
  {
   "cell_type": "code",
   "execution_count": 7,
   "id": "1954b684",
   "metadata": {},
   "outputs": [],
   "source": [
    "# Changed data frame name to df.\n",
    "df = choc_ratg_clnd2"
   ]
  },
  {
   "cell_type": "code",
   "execution_count": 8,
   "id": "f5d6ae72",
   "metadata": {},
   "outputs": [
    {
     "data": {
      "text/html": [
       "<div>\n",
       "<style scoped>\n",
       "    .dataframe tbody tr th:only-of-type {\n",
       "        vertical-align: middle;\n",
       "    }\n",
       "\n",
       "    .dataframe tbody tr th {\n",
       "        vertical-align: top;\n",
       "    }\n",
       "\n",
       "    .dataframe thead th {\n",
       "        text-align: right;\n",
       "    }\n",
       "</style>\n",
       "<table border=\"1\" class=\"dataframe\">\n",
       "  <thead>\n",
       "    <tr style=\"text-align: right;\">\n",
       "      <th></th>\n",
       "      <th>REF</th>\n",
       "      <th>Review Date</th>\n",
       "      <th>Cocoa Percent</th>\n",
       "      <th>Ingredients</th>\n",
       "      <th>Rating</th>\n",
       "    </tr>\n",
       "  </thead>\n",
       "  <tbody>\n",
       "    <tr>\n",
       "      <th>0</th>\n",
       "      <td>2454</td>\n",
       "      <td>2019</td>\n",
       "      <td>76%</td>\n",
       "      <td>3- B,S,C</td>\n",
       "      <td>3.25</td>\n",
       "    </tr>\n",
       "    <tr>\n",
       "      <th>1</th>\n",
       "      <td>2458</td>\n",
       "      <td>2019</td>\n",
       "      <td>76%</td>\n",
       "      <td>3- B,S,C</td>\n",
       "      <td>3.50</td>\n",
       "    </tr>\n",
       "    <tr>\n",
       "      <th>2</th>\n",
       "      <td>2454</td>\n",
       "      <td>2019</td>\n",
       "      <td>76%</td>\n",
       "      <td>3- B,S,C</td>\n",
       "      <td>3.75</td>\n",
       "    </tr>\n",
       "    <tr>\n",
       "      <th>3</th>\n",
       "      <td>2542</td>\n",
       "      <td>2021</td>\n",
       "      <td>68%</td>\n",
       "      <td>3- B,S,C</td>\n",
       "      <td>3.00</td>\n",
       "    </tr>\n",
       "    <tr>\n",
       "      <th>4</th>\n",
       "      <td>2546</td>\n",
       "      <td>2021</td>\n",
       "      <td>72%</td>\n",
       "      <td>3- B,S,C</td>\n",
       "      <td>3.00</td>\n",
       "    </tr>\n",
       "    <tr>\n",
       "      <th>...</th>\n",
       "      <td>...</td>\n",
       "      <td>...</td>\n",
       "      <td>...</td>\n",
       "      <td>...</td>\n",
       "      <td>...</td>\n",
       "    </tr>\n",
       "    <tr>\n",
       "      <th>2525</th>\n",
       "      <td>1205</td>\n",
       "      <td>2014</td>\n",
       "      <td>80%</td>\n",
       "      <td>4- B,S*,C,Sa</td>\n",
       "      <td>2.75</td>\n",
       "    </tr>\n",
       "    <tr>\n",
       "      <th>2526</th>\n",
       "      <td>1996</td>\n",
       "      <td>2017</td>\n",
       "      <td>75%</td>\n",
       "      <td>3- B,S,C</td>\n",
       "      <td>3.75</td>\n",
       "    </tr>\n",
       "    <tr>\n",
       "      <th>2527</th>\n",
       "      <td>2036</td>\n",
       "      <td>2018</td>\n",
       "      <td>75%</td>\n",
       "      <td>3- B,S,C</td>\n",
       "      <td>3.00</td>\n",
       "    </tr>\n",
       "    <tr>\n",
       "      <th>2528</th>\n",
       "      <td>2170</td>\n",
       "      <td>2018</td>\n",
       "      <td>70%</td>\n",
       "      <td>3- B,S,C</td>\n",
       "      <td>3.25</td>\n",
       "    </tr>\n",
       "    <tr>\n",
       "      <th>2529</th>\n",
       "      <td>2170</td>\n",
       "      <td>2018</td>\n",
       "      <td>72%</td>\n",
       "      <td>3- B,S,C</td>\n",
       "      <td>3.50</td>\n",
       "    </tr>\n",
       "  </tbody>\n",
       "</table>\n",
       "<p>2530 rows × 5 columns</p>\n",
       "</div>"
      ],
      "text/plain": [
       "       REF  Review Date Cocoa Percent   Ingredients  Rating\n",
       "0     2454         2019           76%      3- B,S,C    3.25\n",
       "1     2458         2019           76%      3- B,S,C    3.50\n",
       "2     2454         2019           76%      3- B,S,C    3.75\n",
       "3     2542         2021           68%      3- B,S,C    3.00\n",
       "4     2546         2021           72%      3- B,S,C    3.00\n",
       "...    ...          ...           ...           ...     ...\n",
       "2525  1205         2014           80%  4- B,S*,C,Sa    2.75\n",
       "2526  1996         2017           75%      3- B,S,C    3.75\n",
       "2527  2036         2018           75%      3- B,S,C    3.00\n",
       "2528  2170         2018           70%      3- B,S,C    3.25\n",
       "2529  2170         2018           72%      3- B,S,C    3.50\n",
       "\n",
       "[2530 rows x 5 columns]"
      ]
     },
     "execution_count": 8,
     "metadata": {},
     "output_type": "execute_result"
    }
   ],
   "source": [
    "# Dataframe.\n",
    "df"
   ]
  },
  {
   "cell_type": "code",
   "execution_count": 9,
   "id": "7c499e5d",
   "metadata": {},
   "outputs": [
    {
     "data": {
      "text/plain": [
       "REF                int64\n",
       "Review Date        int64\n",
       "Cocoa Percent     object\n",
       "Ingredients       object\n",
       "Rating           float64\n",
       "dtype: object"
      ]
     },
     "execution_count": 9,
     "metadata": {},
     "output_type": "execute_result"
    }
   ],
   "source": [
    "# Checking the data types.\n",
    "df.dtypes"
   ]
  },
  {
   "cell_type": "code",
   "execution_count": 10,
   "id": "89c3fca2",
   "metadata": {},
   "outputs": [],
   "source": [
    "# Converting string/object to float.\n",
    "df['Cocoa Percent'] = df['Cocoa Percent'].str.replace('%', '').astype(float)"
   ]
  },
  {
   "cell_type": "code",
   "execution_count": 11,
   "id": "9126a77b",
   "metadata": {},
   "outputs": [
    {
     "data": {
      "text/plain": [
       "REF                int64\n",
       "Review Date        int64\n",
       "Cocoa Percent    float64\n",
       "Ingredients       object\n",
       "Rating           float64\n",
       "dtype: object"
      ]
     },
     "execution_count": 11,
     "metadata": {},
     "output_type": "execute_result"
    }
   ],
   "source": [
    "df.dtypes"
   ]
  },
  {
   "cell_type": "code",
   "execution_count": 12,
   "id": "cf0c95cd",
   "metadata": {},
   "outputs": [
    {
     "data": {
      "text/html": [
       "<div>\n",
       "<style scoped>\n",
       "    .dataframe tbody tr th:only-of-type {\n",
       "        vertical-align: middle;\n",
       "    }\n",
       "\n",
       "    .dataframe tbody tr th {\n",
       "        vertical-align: top;\n",
       "    }\n",
       "\n",
       "    .dataframe thead th {\n",
       "        text-align: right;\n",
       "    }\n",
       "</style>\n",
       "<table border=\"1\" class=\"dataframe\">\n",
       "  <thead>\n",
       "    <tr style=\"text-align: right;\">\n",
       "      <th></th>\n",
       "      <th>REF</th>\n",
       "      <th>Review Date</th>\n",
       "      <th>Cocoa Percent</th>\n",
       "      <th>Ingredients</th>\n",
       "      <th>Rating</th>\n",
       "    </tr>\n",
       "  </thead>\n",
       "  <tbody>\n",
       "    <tr>\n",
       "      <th>0</th>\n",
       "      <td>2454</td>\n",
       "      <td>2019</td>\n",
       "      <td>76.0</td>\n",
       "      <td>3- B,S,C</td>\n",
       "      <td>3.25</td>\n",
       "    </tr>\n",
       "    <tr>\n",
       "      <th>1</th>\n",
       "      <td>2458</td>\n",
       "      <td>2019</td>\n",
       "      <td>76.0</td>\n",
       "      <td>3- B,S,C</td>\n",
       "      <td>3.50</td>\n",
       "    </tr>\n",
       "    <tr>\n",
       "      <th>2</th>\n",
       "      <td>2454</td>\n",
       "      <td>2019</td>\n",
       "      <td>76.0</td>\n",
       "      <td>3- B,S,C</td>\n",
       "      <td>3.75</td>\n",
       "    </tr>\n",
       "    <tr>\n",
       "      <th>3</th>\n",
       "      <td>2542</td>\n",
       "      <td>2021</td>\n",
       "      <td>68.0</td>\n",
       "      <td>3- B,S,C</td>\n",
       "      <td>3.00</td>\n",
       "    </tr>\n",
       "    <tr>\n",
       "      <th>4</th>\n",
       "      <td>2546</td>\n",
       "      <td>2021</td>\n",
       "      <td>72.0</td>\n",
       "      <td>3- B,S,C</td>\n",
       "      <td>3.00</td>\n",
       "    </tr>\n",
       "    <tr>\n",
       "      <th>...</th>\n",
       "      <td>...</td>\n",
       "      <td>...</td>\n",
       "      <td>...</td>\n",
       "      <td>...</td>\n",
       "      <td>...</td>\n",
       "    </tr>\n",
       "    <tr>\n",
       "      <th>2525</th>\n",
       "      <td>1205</td>\n",
       "      <td>2014</td>\n",
       "      <td>80.0</td>\n",
       "      <td>4- B,S*,C,Sa</td>\n",
       "      <td>2.75</td>\n",
       "    </tr>\n",
       "    <tr>\n",
       "      <th>2526</th>\n",
       "      <td>1996</td>\n",
       "      <td>2017</td>\n",
       "      <td>75.0</td>\n",
       "      <td>3- B,S,C</td>\n",
       "      <td>3.75</td>\n",
       "    </tr>\n",
       "    <tr>\n",
       "      <th>2527</th>\n",
       "      <td>2036</td>\n",
       "      <td>2018</td>\n",
       "      <td>75.0</td>\n",
       "      <td>3- B,S,C</td>\n",
       "      <td>3.00</td>\n",
       "    </tr>\n",
       "    <tr>\n",
       "      <th>2528</th>\n",
       "      <td>2170</td>\n",
       "      <td>2018</td>\n",
       "      <td>70.0</td>\n",
       "      <td>3- B,S,C</td>\n",
       "      <td>3.25</td>\n",
       "    </tr>\n",
       "    <tr>\n",
       "      <th>2529</th>\n",
       "      <td>2170</td>\n",
       "      <td>2018</td>\n",
       "      <td>72.0</td>\n",
       "      <td>3- B,S,C</td>\n",
       "      <td>3.50</td>\n",
       "    </tr>\n",
       "  </tbody>\n",
       "</table>\n",
       "<p>2530 rows × 5 columns</p>\n",
       "</div>"
      ],
      "text/plain": [
       "       REF  Review Date  Cocoa Percent   Ingredients  Rating\n",
       "0     2454         2019           76.0      3- B,S,C    3.25\n",
       "1     2458         2019           76.0      3- B,S,C    3.50\n",
       "2     2454         2019           76.0      3- B,S,C    3.75\n",
       "3     2542         2021           68.0      3- B,S,C    3.00\n",
       "4     2546         2021           72.0      3- B,S,C    3.00\n",
       "...    ...          ...            ...           ...     ...\n",
       "2525  1205         2014           80.0  4- B,S*,C,Sa    2.75\n",
       "2526  1996         2017           75.0      3- B,S,C    3.75\n",
       "2527  2036         2018           75.0      3- B,S,C    3.00\n",
       "2528  2170         2018           70.0      3- B,S,C    3.25\n",
       "2529  2170         2018           72.0      3- B,S,C    3.50\n",
       "\n",
       "[2530 rows x 5 columns]"
      ]
     },
     "execution_count": 12,
     "metadata": {},
     "output_type": "execute_result"
    }
   ],
   "source": [
    "df"
   ]
  },
  {
   "cell_type": "code",
   "execution_count": null,
   "id": "1311c960",
   "metadata": {},
   "outputs": [],
   "source": []
  }
 ],
 "metadata": {
  "kernelspec": {
   "display_name": "Python 3 (ipykernel)",
   "language": "python",
   "name": "python3"
  },
  "language_info": {
   "codemirror_mode": {
    "name": "ipython",
    "version": 3
   },
   "file_extension": ".py",
   "mimetype": "text/x-python",
   "name": "python",
   "nbconvert_exporter": "python",
   "pygments_lexer": "ipython3",
   "version": "3.10.9"
  }
 },
 "nbformat": 4,
 "nbformat_minor": 5
}
